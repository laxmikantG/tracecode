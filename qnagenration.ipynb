{
  "nbformat": 4,
  "nbformat_minor": 0,
  "metadata": {
    "colab": {
      "name": "qnagenration.ipynb",
      "provenance": [],
      "collapsed_sections": [],
      "include_colab_link": true
    },
    "kernelspec": {
      "name": "python3",
      "display_name": "Python 3"
    },
    "accelerator": "GPU"
  },
  "cells": [
    {
      "cell_type": "markdown",
      "metadata": {
        "id": "view-in-github",
        "colab_type": "text"
      },
      "source": [
        "<a href=\"https://colab.research.google.com/github/laxmikantG/tracecode/blob/master/qnagenration.ipynb\" target=\"_parent\"><img src=\"https://colab.research.google.com/assets/colab-badge.svg\" alt=\"Open In Colab\"/></a>"
      ]
    },
    {
      "cell_type": "code",
      "metadata": {
        "id": "n-MCSMO4SP33",
        "colab_type": "code",
        "colab": {}
      },
      "source": [
        "#Common imports \n",
        "import pandas as pd\n",
        "from IPython.display import Markdown, display, clear_output\n",
        "from nltk import tokenize\n",
        "from scipy import stats\n",
        "from IPython.core.debugger import set_trace\n",
        "from pathlib import Path"
      ],
      "execution_count": 0,
      "outputs": []
    },
    {
      "cell_type": "code",
      "metadata": {
        "id": "bn3tNespSpWG",
        "colab_type": "code",
        "colab": {}
      },
      "source": [
        "def printBold(string):\n",
        "    display('**' + string + '**')"
      ],
      "execution_count": 0,
      "outputs": []
    },
    {
      "cell_type": "code",
      "metadata": {
        "id": "vOpO5uj1SwIv",
        "colab_type": "code",
        "colab": {}
      },
      "source": [
        "import _pickle as cPickle\n",
        "from pathlib import Path\n",
        "\n",
        "def dumpPickle(fileName, content):\n",
        "    pickleFile = open(fileName, 'wb')\n",
        "    cPickle.dump(content, pickleFile, -1)\n",
        "    pickleFile.close()\n",
        "\n",
        "def loadPickle(fileName):    \n",
        "    file = open(fileName, 'rb')\n",
        "    content = cPickle.load(file)\n",
        "    file.close()\n",
        "    \n",
        "    return content\n",
        "    \n",
        "def pickleExists(fileName):\n",
        "    file = Path(fileName)\n",
        "    \n",
        "    if file.is_file():\n",
        "        return True\n",
        "    \n",
        "    return False"
      ],
      "execution_count": 0,
      "outputs": []
    },
    {
      "cell_type": "code",
      "metadata": {
        "id": "uJ8r0QdaVBlp",
        "colab_type": "code",
        "colab": {
          "resources": {
            "http://localhost:8080/nbextensions/google.colab/files.js": {
              "data": "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",
              "ok": true,
              "headers": [
                [
                  "content-type",
                  "application/javascript"
                ]
              ],
              "status": 200,
              "status_text": ""
            }
          },
          "base_uri": "https://localhost:8080/",
          "height": 145
        },
        "outputId": "68698a76-b79d-4215-fe05-3f2afb72d1c0"
      },
      "source": [
        "from google.colab import files\n",
        "\n",
        "uploaded = files.upload()\n",
        "\n",
        "for fn in uploaded.keys():\n",
        "  print('User uploaded file \"{name}\" with length {length} bytes'.format(\n",
        "      name=fn, length=len(uploaded[fn])))"
      ],
      "execution_count": 1,
      "outputs": [
        {
          "output_type": "display_data",
          "data": {
            "text/html": [
              "\n",
              "     <input type=\"file\" id=\"files-4235f28e-2dcc-4ad3-833e-6c1945ac5580\" name=\"files[]\" multiple disabled />\n",
              "     <output id=\"result-4235f28e-2dcc-4ad3-833e-6c1945ac5580\">\n",
              "      Upload widget is only available when the cell has been executed in the\n",
              "      current browser session. Please rerun this cell to enable.\n",
              "      </output>\n",
              "      <script src=\"/nbextensions/google.colab/files.js\"></script> "
            ],
            "text/plain": [
              "<IPython.core.display.HTML object>"
            ]
          },
          "metadata": {
            "tags": []
          }
        },
        {
          "output_type": "stream",
          "text": [
            "Saving dev-v1.1.json.zip to dev-v1.1.json.zip\n",
            "Saving train-v1.1.json.zip to train-v1.1.json.zip\n",
            "User uploaded file \"dev-v1.1.json.zip\" with length 1051741 bytes\n",
            "User uploaded file \"train-v1.1.json.zip\" with length 8100535 bytes\n"
          ],
          "name": "stdout"
        }
      ]
    },
    {
      "cell_type": "code",
      "metadata": {
        "id": "nHHJFLTMWQdP",
        "colab_type": "code",
        "colab": {
          "base_uri": "https://localhost:8080/",
          "height": 52
        },
        "outputId": "18c4ab23-7ea4-4505-98cf-46efb2237238"
      },
      "source": [
        "!unzip dev-v1.1.json.zip"
      ],
      "execution_count": 2,
      "outputs": [
        {
          "output_type": "stream",
          "text": [
            "Archive:  dev-v1.1.json.zip\n",
            "  inflating: dev-v1.1.json           \n"
          ],
          "name": "stdout"
        }
      ]
    },
    {
      "cell_type": "code",
      "metadata": {
        "id": "NnRtq1Ojai0t",
        "colab_type": "code",
        "colab": {
          "base_uri": "https://localhost:8080/",
          "height": 52
        },
        "outputId": "44b2c8f9-f6f7-48e6-96a9-4ae01366e993"
      },
      "source": [
        "!unzip train-v1.1.json.zip"
      ],
      "execution_count": 3,
      "outputs": [
        {
          "output_type": "stream",
          "text": [
            "Archive:  train-v1.1.json.zip\n",
            "  inflating: train-v1.1.json         \n"
          ],
          "name": "stdout"
        }
      ]
    },
    {
      "cell_type": "code",
      "metadata": {
        "id": "o909Nm1dkfcS",
        "colab_type": "code",
        "colab": {}
      },
      "source": [
        "!mkdir squad-v1 && mv *.json squad-v1 "
      ],
      "execution_count": 0,
      "outputs": []
    },
    {
      "cell_type": "code",
      "metadata": {
        "id": "NdS7w6Pfaxkp",
        "colab_type": "code",
        "colab": {
          "base_uri": "https://localhost:8080/",
          "height": 34
        },
        "outputId": "6c030203-e5d3-43c2-d436-373d9bff32a7"
      },
      "source": [
        "!ls #rm -rf *.zip "
      ],
      "execution_count": 5,
      "outputs": [
        {
          "output_type": "stream",
          "text": [
            "dev-v1.1.json.zip  sample_data\tsquad-v1  train-v1.1.json.zip\n"
          ],
          "name": "stdout"
        }
      ]
    },
    {
      "cell_type": "code",
      "metadata": {
        "id": "Ll29jsoNa9CG",
        "colab_type": "code",
        "colab": {}
      },
      "source": [
        "train = pd.read_json('squad-v1/train-v1.1.json', orient='column')\n",
        "dev = pd.read_json('squad-v1/dev-v1.1.json', orient='column')\n"
      ],
      "execution_count": 0,
      "outputs": []
    },
    {
      "cell_type": "code",
      "metadata": {
        "id": "b0ffX9f7bnF5",
        "colab_type": "code",
        "colab": {
          "base_uri": "https://localhost:8080/",
          "height": 199
        },
        "outputId": "2fafa31e-3a33-40aa-ce71-ee5e01194be8"
      },
      "source": [
        "df = pd.concat([train, dev], ignore_index=True)\n",
        "df.head()"
      ],
      "execution_count": 11,
      "outputs": [
        {
          "output_type": "execute_result",
          "data": {
            "text/html": [
              "<div>\n",
              "<style scoped>\n",
              "    .dataframe tbody tr th:only-of-type {\n",
              "        vertical-align: middle;\n",
              "    }\n",
              "\n",
              "    .dataframe tbody tr th {\n",
              "        vertical-align: top;\n",
              "    }\n",
              "\n",
              "    .dataframe thead th {\n",
              "        text-align: right;\n",
              "    }\n",
              "</style>\n",
              "<table border=\"1\" class=\"dataframe\">\n",
              "  <thead>\n",
              "    <tr style=\"text-align: right;\">\n",
              "      <th></th>\n",
              "      <th>data</th>\n",
              "      <th>version</th>\n",
              "    </tr>\n",
              "  </thead>\n",
              "  <tbody>\n",
              "    <tr>\n",
              "      <th>0</th>\n",
              "      <td>{'title': 'University_of_Notre_Dame', 'paragra...</td>\n",
              "      <td>1.1</td>\n",
              "    </tr>\n",
              "    <tr>\n",
              "      <th>1</th>\n",
              "      <td>{'title': 'Beyoncé', 'paragraphs': [{'context'...</td>\n",
              "      <td>1.1</td>\n",
              "    </tr>\n",
              "    <tr>\n",
              "      <th>2</th>\n",
              "      <td>{'title': 'Montana', 'paragraphs': [{'context'...</td>\n",
              "      <td>1.1</td>\n",
              "    </tr>\n",
              "    <tr>\n",
              "      <th>3</th>\n",
              "      <td>{'title': 'Genocide', 'paragraphs': [{'context...</td>\n",
              "      <td>1.1</td>\n",
              "    </tr>\n",
              "    <tr>\n",
              "      <th>4</th>\n",
              "      <td>{'title': 'Antibiotics', 'paragraphs': [{'cont...</td>\n",
              "      <td>1.1</td>\n",
              "    </tr>\n",
              "  </tbody>\n",
              "</table>\n",
              "</div>"
            ],
            "text/plain": [
              "                                                data  version\n",
              "0  {'title': 'University_of_Notre_Dame', 'paragra...      1.1\n",
              "1  {'title': 'Beyoncé', 'paragraphs': [{'context'...      1.1\n",
              "2  {'title': 'Montana', 'paragraphs': [{'context'...      1.1\n",
              "3  {'title': 'Genocide', 'paragraphs': [{'context...      1.1\n",
              "4  {'title': 'Antibiotics', 'paragraphs': [{'cont...      1.1"
            ]
          },
          "metadata": {
            "tags": []
          },
          "execution_count": 11
        }
      ]
    },
    {
      "cell_type": "code",
      "metadata": {
        "id": "Lp2zSxyLiPB5",
        "colab_type": "code",
        "colab": {}
      },
      "source": [
        "def showQuestion(titleId, paragraphId, questionId):\n",
        "\n",
        "    title = df['data'][titleId]['title']\n",
        "    paragraph = df['data'][titleId]['paragraphs'][paragraphId]['context']\n",
        "    question = df['data'][titleId]['paragraphs'][paragraphId]['qas'][questionId]['question']\n",
        "    answer = df['data'][titleId]['paragraphs'][paragraphId]['qas'][questionId]['answers'][0]['text']\n",
        "    answerStart = df['data'][titleId]['paragraphs'][paragraphId]['qas'][questionId]['answers'][0]['answer_start']\n",
        "\n",
        "    printBold('Title')\n",
        "    print(title)\n",
        "    printBold('Paragraph')\n",
        "    print(paragraph)\n",
        "    printBold('Question')\n",
        "    print(question)\n",
        "    printBold('Answer')\n",
        "    print(answerStart)\n",
        "    print(answer)"
      ],
      "execution_count": 0,
      "outputs": []
    },
    {
      "cell_type": "code",
      "metadata": {
        "id": "8Dcoua4ciY6f",
        "colab_type": "code",
        "colab": {
          "base_uri": "https://localhost:8080/",
          "height": 195
        },
        "outputId": "4f75bde4-f993-4008-f6dd-c54edcac6249"
      },
      "source": [
        "titleId = 0\n",
        "paragraphId = 0 \n",
        "questionId = 0\n",
        "\n",
        "showQuestion(titleId, paragraphId, questionId)"
      ],
      "execution_count": 13,
      "outputs": [
        {
          "output_type": "display_data",
          "data": {
            "text/plain": [
              "'**Title**'"
            ]
          },
          "metadata": {
            "tags": []
          }
        },
        {
          "output_type": "stream",
          "text": [
            "University_of_Notre_Dame\n"
          ],
          "name": "stdout"
        },
        {
          "output_type": "display_data",
          "data": {
            "text/plain": [
              "'**Paragraph**'"
            ]
          },
          "metadata": {
            "tags": []
          }
        },
        {
          "output_type": "stream",
          "text": [
            "Architecturally, the school has a Catholic character. Atop the Main Building's gold dome is a golden statue of the Virgin Mary. Immediately in front of the Main Building and facing it, is a copper statue of Christ with arms upraised with the legend \"Venite Ad Me Omnes\". Next to the Main Building is the Basilica of the Sacred Heart. Immediately behind the basilica is the Grotto, a Marian place of prayer and reflection. It is a replica of the grotto at Lourdes, France where the Virgin Mary reputedly appeared to Saint Bernadette Soubirous in 1858. At the end of the main drive (and in a direct line that connects through 3 statues and the Gold Dome), is a simple, modern stone statue of Mary.\n"
          ],
          "name": "stdout"
        },
        {
          "output_type": "display_data",
          "data": {
            "text/plain": [
              "'**Question**'"
            ]
          },
          "metadata": {
            "tags": []
          }
        },
        {
          "output_type": "stream",
          "text": [
            "To whom did the Virgin Mary allegedly appear in 1858 in Lourdes France?\n"
          ],
          "name": "stdout"
        },
        {
          "output_type": "display_data",
          "data": {
            "text/plain": [
              "'**Answer**'"
            ]
          },
          "metadata": {
            "tags": []
          }
        },
        {
          "output_type": "stream",
          "text": [
            "515\n",
            "Saint Bernadette Soubirous\n"
          ],
          "name": "stdout"
        }
      ]
    },
    {
      "cell_type": "code",
      "metadata": {
        "id": "KNY2GjpqlSJZ",
        "colab_type": "code",
        "colab": {
          "base_uri": "https://localhost:8080/",
          "height": 70
        },
        "outputId": "91f5d9e0-56b5-4065-97d6-b13f197690f0"
      },
      "source": [
        "titlesCount = len(df['data'])\n",
        "totalParagraphsCount = 0\n",
        "totalQuestionsCount = 0\n",
        "\n",
        "for titleId in range(titlesCount):\n",
        "    paragraphsCount = len(df['data'][titleId]['paragraphs'])\n",
        "    totalParagraphsCount += paragraphsCount\n",
        "    \n",
        "    for paragraphId in range(paragraphsCount):\n",
        "        questionsCount = len(df['data'][titleId]['paragraphs'][paragraphId]['qas'])\n",
        "        \n",
        "        totalQuestionsCount += questionsCount\n",
        "        \n",
        "print('Titles', titlesCount)\n",
        "print('Paragraphs', totalParagraphsCount)\n",
        "print('Questions', totalQuestionsCount)"
      ],
      "execution_count": 16,
      "outputs": [
        {
          "output_type": "stream",
          "text": [
            "Titles 490\n",
            "Paragraphs 20963\n",
            "Questions 98169\n"
          ],
          "name": "stdout"
        }
      ]
    },
    {
      "cell_type": "code",
      "metadata": {
        "id": "vRAEPNWnlg9W",
        "colab_type": "code",
        "colab": {
          "base_uri": "https://localhost:8080/",
          "height": 368
        },
        "outputId": "fa74aaeb-be68-4ea0-b02c-dc3e8c3e2570"
      },
      "source": [
        "\n",
        "titles = []\n",
        "for titleId in range(len(df['data'])):\n",
        "    titles.append(df['data'][titleId]['title'])\n",
        "    \n",
        "for i in range(20):\n",
        "    print(titles[i])"
      ],
      "execution_count": 17,
      "outputs": [
        {
          "output_type": "stream",
          "text": [
            "University_of_Notre_Dame\n",
            "Beyoncé\n",
            "Montana\n",
            "Genocide\n",
            "Antibiotics\n",
            "Frédéric_Chopin\n",
            "Sino-Tibetan_relations_during_the_Ming_dynasty\n",
            "IPod\n",
            "The_Legend_of_Zelda:_Twilight_Princess\n",
            "Spectre_(2015_film)\n",
            "2008_Sichuan_earthquake\n",
            "New_York_City\n",
            "To_Kill_a_Mockingbird\n",
            "Solar_energy\n",
            "Tajikistan\n",
            "Anthropology\n",
            "Portugal\n",
            "Kanye_West\n",
            "Buddhism\n",
            "American_Idol\n"
          ],
          "name": "stdout"
        }
      ]
    },
    {
      "cell_type": "code",
      "metadata": {
        "id": "Nv5cG95kmaM-",
        "colab_type": "code",
        "colab": {
          "base_uri": "https://localhost:8080/",
          "height": 195
        },
        "outputId": "5608e589-1c7e-44f7-bc02-6de8206fdd92"
      },
      "source": [
        "titleId = 0\n",
        "paragraphId = 0 \n",
        "questionId = 0\n",
        "\n",
        "showQuestion(titleId, paragraphId, questionId)"
      ],
      "execution_count": 19,
      "outputs": [
        {
          "output_type": "display_data",
          "data": {
            "text/plain": [
              "'**Title**'"
            ]
          },
          "metadata": {
            "tags": []
          }
        },
        {
          "output_type": "stream",
          "text": [
            "University_of_Notre_Dame\n"
          ],
          "name": "stdout"
        },
        {
          "output_type": "display_data",
          "data": {
            "text/plain": [
              "'**Paragraph**'"
            ]
          },
          "metadata": {
            "tags": []
          }
        },
        {
          "output_type": "stream",
          "text": [
            "Architecturally, the school has a Catholic character. Atop the Main Building's gold dome is a golden statue of the Virgin Mary. Immediately in front of the Main Building and facing it, is a copper statue of Christ with arms upraised with the legend \"Venite Ad Me Omnes\". Next to the Main Building is the Basilica of the Sacred Heart. Immediately behind the basilica is the Grotto, a Marian place of prayer and reflection. It is a replica of the grotto at Lourdes, France where the Virgin Mary reputedly appeared to Saint Bernadette Soubirous in 1858. At the end of the main drive (and in a direct line that connects through 3 statues and the Gold Dome), is a simple, modern stone statue of Mary.\n"
          ],
          "name": "stdout"
        },
        {
          "output_type": "display_data",
          "data": {
            "text/plain": [
              "'**Question**'"
            ]
          },
          "metadata": {
            "tags": []
          }
        },
        {
          "output_type": "stream",
          "text": [
            "To whom did the Virgin Mary allegedly appear in 1858 in Lourdes France?\n"
          ],
          "name": "stdout"
        },
        {
          "output_type": "display_data",
          "data": {
            "text/plain": [
              "'**Answer**'"
            ]
          },
          "metadata": {
            "tags": []
          }
        },
        {
          "output_type": "stream",
          "text": [
            "515\n",
            "Saint Bernadette Soubirous\n"
          ],
          "name": "stdout"
        }
      ]
    },
    {
      "cell_type": "code",
      "metadata": {
        "id": "UugTm6uRmzoe",
        "colab_type": "code",
        "colab": {}
      },
      "source": [
        "def extractSentence(paragraph, answerStart):\n",
        "    \n",
        "    sentences = tokenize.sent_tokenize(paragraph)\n",
        "    sentenceStart = 0\n",
        "    \n",
        "    for sentence in sentences:\n",
        "        if (sentenceStart + len(sentence) >= answerStart):\n",
        "            return sentence         \n",
        "        \n",
        "        sentenceStart += len(sentence) + 1\n"
      ],
      "execution_count": 0,
      "outputs": []
    },
    {
      "cell_type": "code",
      "metadata": {
        "id": "XJryE_20nAyX",
        "colab_type": "code",
        "colab": {
          "base_uri": "https://localhost:8080/",
          "height": 70
        },
        "outputId": "011b0e9f-db69-48f4-d0e1-4c81c7c43663"
      },
      "source": [
        "import nltk\n",
        "nltk.download('punkt')"
      ],
      "execution_count": 22,
      "outputs": [
        {
          "output_type": "stream",
          "text": [
            "[nltk_data] Downloading package punkt to /root/nltk_data...\n",
            "[nltk_data]   Unzipping tokenizers/punkt.zip.\n"
          ],
          "name": "stdout"
        },
        {
          "output_type": "execute_result",
          "data": {
            "text/plain": [
              "True"
            ]
          },
          "metadata": {
            "tags": []
          },
          "execution_count": 22
        }
      ]
    },
    {
      "cell_type": "code",
      "metadata": {
        "id": "dsNW16MenPt-",
        "colab_type": "code",
        "colab": {
          "base_uri": "https://localhost:8080/",
          "height": 54
        },
        "outputId": "332b46b8-d6a0-4ba2-b26e-5fe7d55981b3"
      },
      "source": [
        "paragraph = df['data'][0]['paragraphs'][0]['context']\n",
        "answerStart = df['data'][0]['paragraphs'][0]['qas'][0]['answers'][0]['answer_start']\n",
        "\n",
        "sentence = extractSentence(paragraph, answerStart)\n",
        "print(sentence)\n"
      ],
      "execution_count": 23,
      "outputs": [
        {
          "output_type": "stream",
          "text": [
            "It is a replica of the grotto at Lourdes, France where the Virgin Mary reputedly appeared to Saint Bernadette Soubirous in 1858.\n"
          ],
          "name": "stdout"
        }
      ]
    },
    {
      "cell_type": "code",
      "metadata": {
        "id": "lXHoyzmYnjfX",
        "colab_type": "code",
        "colab": {}
      },
      "source": [
        "def containedInText(text, question):\n",
        "    \n",
        "    questionWords = tokenize.word_tokenize(question.lower())\n",
        "    textWords = tokenize.word_tokenize(text.lower())\n",
        "    wordsContained = 0\n",
        "\n",
        "    for questionWord in questionWords:\n",
        "        for textWord in textWords:\n",
        "            if (questionWord == textWord):\n",
        "                wordsContained += 1\n",
        "                break\n",
        "\n",
        "    return wordsContained / len(questionWords)"
      ],
      "execution_count": 0,
      "outputs": []
    },
    {
      "cell_type": "code",
      "metadata": {
        "id": "Rl33pVdNnqli",
        "colab_type": "code",
        "colab": {
          "base_uri": "https://localhost:8080/",
          "height": 142
        },
        "outputId": "b1b8477a-67f6-4df2-e885-6662d0419c58"
      },
      "source": [
        "question =  df['data'][0]['paragraphs'][0]['qas'][0]['question']\n",
        "\n",
        "contained = containedInText(sentence, question)\n",
        "printBold('Question')\n",
        "print(question)\n",
        "printBold('Sentence')\n",
        "print(sentence)\n",
        "printBold(\"Contained\")\n",
        "print(contained)"
      ],
      "execution_count": 26,
      "outputs": [
        {
          "output_type": "display_data",
          "data": {
            "text/plain": [
              "'**Question**'"
            ]
          },
          "metadata": {
            "tags": []
          }
        },
        {
          "output_type": "stream",
          "text": [
            "To whom did the Virgin Mary allegedly appear in 1858 in Lourdes France?\n"
          ],
          "name": "stdout"
        },
        {
          "output_type": "display_data",
          "data": {
            "text/plain": [
              "'**Sentence**'"
            ]
          },
          "metadata": {
            "tags": []
          }
        },
        {
          "output_type": "stream",
          "text": [
            "It is a replica of the grotto at Lourdes, France where the Virgin Mary reputedly appeared to Saint Bernadette Soubirous in 1858.\n"
          ],
          "name": "stdout"
        },
        {
          "output_type": "display_data",
          "data": {
            "text/plain": [
              "'**Contained**'"
            ]
          },
          "metadata": {
            "tags": []
          }
        },
        {
          "output_type": "stream",
          "text": [
            "0.6428571428571429\n"
          ],
          "name": "stdout"
        }
      ]
    },
    {
      "cell_type": "code",
      "metadata": {
        "id": "eDi4O-btoK0i",
        "colab_type": "code",
        "colab": {}
      },
      "source": [
        "#Printint the percentage completed\n",
        "def printPercentage(currentStep, maxStep):\n",
        "    stepSize = maxStep / 100\n",
        "    \n",
        "    if (int(currentStep / stepSize) > ((currentStep - 1) / stepSize)):\n",
        "        clear_output()\n",
        "        print('{}%'.format(int(currentStep / stepSize)))\n"
      ],
      "execution_count": 0,
      "outputs": []
    },
    {
      "cell_type": "code",
      "metadata": {
        "id": "DCwObmm5p1SX",
        "colab_type": "code",
        "colab": {}
      },
      "source": [
        "!mkdir pickles"
      ],
      "execution_count": 0,
      "outputs": []
    },
    {
      "cell_type": "code",
      "metadata": {
        "id": "vMMTnKN5oYth",
        "colab_type": "code",
        "colab": {
          "base_uri": "https://localhost:8080/",
          "height": 34
        },
        "outputId": "0bfb461c-371d-4094-8303-7fc6bdcdfeee"
      },
      "source": [
        "questionContainmentDfPickleName = 'pickles/questionContainmentDf.pkl'\n",
        "\n",
        "#If the dataframe is already generated, load it.\n",
        "if (pickleExists(questionContainmentDfPickleName)):\n",
        "    print(\"Pickle found. Saved some time.\")\n",
        "    questionContainmentDf = loadPickle(questionContainmentDfPickleName)\n",
        "else:\n",
        "    sentenceScore = []\n",
        "    paragraphScore = []\n",
        "\n",
        "    #For each title\n",
        "    titlesCount = len(df['data'])\n",
        "    for titleId in range(titlesCount):\n",
        "        printPercentage(titleId, titlesCount)\n",
        "\n",
        "        #For each paragraph\n",
        "        for paragraphId in range(len(df['data'][titleId]['paragraphs'])):\n",
        "            paragraph = df['data'][titleId]['paragraphs'][paragraphId]['context']\n",
        "\n",
        "            #For each question\n",
        "            for questionId in range(len(df['data'][titleId]['paragraphs'][paragraphId]['qas'])):\n",
        "                question = df['data'][titleId]['paragraphs'][paragraphId]['qas'][questionId]['question']\n",
        "                answerStart = df['data'][titleId]['paragraphs'][paragraphId]['qas'][questionId]['answers'][0]['answer_start']\n",
        "                sentence = extractSentence(paragraph, answerStart)\n",
        "\n",
        "                sentenceScore.append(containedInText(sentence, question))\n",
        "                paragraphScore.append(containedInText(paragraph, question))           \n",
        "                \n",
        "    #Merge dataframes into one                \n",
        "    sentenceScoreDf = pd.DataFrame(sentenceScore, columns=['sentence'])\n",
        "    paragraphScoreDf = pd.DataFrame(paragraphScore, columns=['paragraph'])\n",
        "\n",
        "    questionContainmentDf = pd.concat([sentenceScoreDf, paragraphScoreDf], axis=1)\n",
        "    \n",
        "    #Pickle the result\n",
        "    dumpPickle(questionContainmentDfPickleName, questionContainmentDf)\n",
        "    \n",
        "    print(\"Result not pickled. Generating...\")\n"
      ],
      "execution_count": 31,
      "outputs": [
        {
          "output_type": "stream",
          "text": [
            "Pickle found. Saved some time.\n"
          ],
          "name": "stdout"
        }
      ]
    },
    {
      "cell_type": "code",
      "metadata": {
        "id": "lm0p30xOtpxw",
        "colab_type": "code",
        "colab": {
          "base_uri": "https://localhost:8080/",
          "height": 290
        },
        "outputId": "c26124b0-c964-4931-d9da-3bfb337328e3"
      },
      "source": [
        "questionContainmentDf.describe()\n"
      ],
      "execution_count": 32,
      "outputs": [
        {
          "output_type": "execute_result",
          "data": {
            "text/html": [
              "<div>\n",
              "<style scoped>\n",
              "    .dataframe tbody tr th:only-of-type {\n",
              "        vertical-align: middle;\n",
              "    }\n",
              "\n",
              "    .dataframe tbody tr th {\n",
              "        vertical-align: top;\n",
              "    }\n",
              "\n",
              "    .dataframe thead th {\n",
              "        text-align: right;\n",
              "    }\n",
              "</style>\n",
              "<table border=\"1\" class=\"dataframe\">\n",
              "  <thead>\n",
              "    <tr style=\"text-align: right;\">\n",
              "      <th></th>\n",
              "      <th>sentence</th>\n",
              "      <th>paragraph</th>\n",
              "    </tr>\n",
              "  </thead>\n",
              "  <tbody>\n",
              "    <tr>\n",
              "      <th>count</th>\n",
              "      <td>98169.000000</td>\n",
              "      <td>98169.000000</td>\n",
              "    </tr>\n",
              "    <tr>\n",
              "      <th>mean</th>\n",
              "      <td>0.463937</td>\n",
              "      <td>0.582157</td>\n",
              "    </tr>\n",
              "    <tr>\n",
              "      <th>std</th>\n",
              "      <td>0.190377</td>\n",
              "      <td>0.159055</td>\n",
              "    </tr>\n",
              "    <tr>\n",
              "      <th>min</th>\n",
              "      <td>0.000000</td>\n",
              "      <td>0.000000</td>\n",
              "    </tr>\n",
              "    <tr>\n",
              "      <th>25%</th>\n",
              "      <td>0.333333</td>\n",
              "      <td>0.500000</td>\n",
              "    </tr>\n",
              "    <tr>\n",
              "      <th>50%</th>\n",
              "      <td>0.461538</td>\n",
              "      <td>0.600000</td>\n",
              "    </tr>\n",
              "    <tr>\n",
              "      <th>75%</th>\n",
              "      <td>0.600000</td>\n",
              "      <td>0.700000</td>\n",
              "    </tr>\n",
              "    <tr>\n",
              "      <th>max</th>\n",
              "      <td>1.000000</td>\n",
              "      <td>1.000000</td>\n",
              "    </tr>\n",
              "  </tbody>\n",
              "</table>\n",
              "</div>"
            ],
            "text/plain": [
              "           sentence     paragraph\n",
              "count  98169.000000  98169.000000\n",
              "mean       0.463937      0.582157\n",
              "std        0.190377      0.159055\n",
              "min        0.000000      0.000000\n",
              "25%        0.333333      0.500000\n",
              "50%        0.461538      0.600000\n",
              "75%        0.600000      0.700000\n",
              "max        1.000000      1.000000"
            ]
          },
          "metadata": {
            "tags": []
          },
          "execution_count": 32
        }
      ]
    },
    {
      "cell_type": "code",
      "metadata": {
        "id": "4OteE7Ist3Fn",
        "colab_type": "code",
        "colab": {
          "base_uri": "https://localhost:8080/",
          "height": 351
        },
        "outputId": "fb269b08-0f8a-4e0b-fe46-50d2a30838af"
      },
      "source": [
        "questionContainmentDf.head(10)"
      ],
      "execution_count": 33,
      "outputs": [
        {
          "output_type": "execute_result",
          "data": {
            "text/html": [
              "<div>\n",
              "<style scoped>\n",
              "    .dataframe tbody tr th:only-of-type {\n",
              "        vertical-align: middle;\n",
              "    }\n",
              "\n",
              "    .dataframe tbody tr th {\n",
              "        vertical-align: top;\n",
              "    }\n",
              "\n",
              "    .dataframe thead th {\n",
              "        text-align: right;\n",
              "    }\n",
              "</style>\n",
              "<table border=\"1\" class=\"dataframe\">\n",
              "  <thead>\n",
              "    <tr style=\"text-align: right;\">\n",
              "      <th></th>\n",
              "      <th>sentence</th>\n",
              "      <th>paragraph</th>\n",
              "    </tr>\n",
              "  </thead>\n",
              "  <tbody>\n",
              "    <tr>\n",
              "      <th>0</th>\n",
              "      <td>0.642857</td>\n",
              "      <td>0.571429</td>\n",
              "    </tr>\n",
              "    <tr>\n",
              "      <th>1</th>\n",
              "      <td>0.636364</td>\n",
              "      <td>0.636364</td>\n",
              "    </tr>\n",
              "    <tr>\n",
              "      <th>2</th>\n",
              "      <td>0.533333</td>\n",
              "      <td>0.600000</td>\n",
              "    </tr>\n",
              "    <tr>\n",
              "      <th>3</th>\n",
              "      <td>0.375000</td>\n",
              "      <td>0.500000</td>\n",
              "    </tr>\n",
              "    <tr>\n",
              "      <th>4</th>\n",
              "      <td>0.333333</td>\n",
              "      <td>0.416667</td>\n",
              "    </tr>\n",
              "    <tr>\n",
              "      <th>5</th>\n",
              "      <td>0.272727</td>\n",
              "      <td>0.636364</td>\n",
              "    </tr>\n",
              "    <tr>\n",
              "      <th>6</th>\n",
              "      <td>0.300000</td>\n",
              "      <td>0.800000</td>\n",
              "    </tr>\n",
              "    <tr>\n",
              "      <th>7</th>\n",
              "      <td>0.363636</td>\n",
              "      <td>0.727273</td>\n",
              "    </tr>\n",
              "    <tr>\n",
              "      <th>8</th>\n",
              "      <td>0.000000</td>\n",
              "      <td>0.545455</td>\n",
              "    </tr>\n",
              "    <tr>\n",
              "      <th>9</th>\n",
              "      <td>0.266667</td>\n",
              "      <td>0.733333</td>\n",
              "    </tr>\n",
              "  </tbody>\n",
              "</table>\n",
              "</div>"
            ],
            "text/plain": [
              "   sentence  paragraph\n",
              "0  0.642857   0.571429\n",
              "1  0.636364   0.636364\n",
              "2  0.533333   0.600000\n",
              "3  0.375000   0.500000\n",
              "4  0.333333   0.416667\n",
              "5  0.272727   0.636364\n",
              "6  0.300000   0.800000\n",
              "7  0.363636   0.727273\n",
              "8  0.000000   0.545455\n",
              "9  0.266667   0.733333"
            ]
          },
          "metadata": {
            "tags": []
          },
          "execution_count": 33
        }
      ]
    },
    {
      "cell_type": "code",
      "metadata": {
        "id": "bQfJ7BG8uEqP",
        "colab_type": "code",
        "colab": {}
      },
      "source": [
        "def getQuestionAt(index):\n",
        "    currentIndex = 0\n",
        "    \n",
        "    for titleId in range(len(df['data'])):\n",
        "        for paragraphId in range(len(df['data'][titleId]['paragraphs'])):\n",
        "            for questionId in range(len(df['data'][titleId]['paragraphs'][paragraphId]['qas'])):\n",
        "                if (currentIndex == index):\n",
        "                    return titleId, paragraphId, questionId\n",
        "                currentIndex += 1\n"
      ],
      "execution_count": 0,
      "outputs": []
    },
    {
      "cell_type": "code",
      "metadata": {
        "id": "hzIbYsNmuInP",
        "colab_type": "code",
        "colab": {
          "base_uri": "https://localhost:8080/",
          "height": 213
        },
        "outputId": "1824ef81-3ede-4c94-f7e4-a176ba18157f"
      },
      "source": [
        "titleId, paragraphId, questionId = getQuestionAt(81)\n",
        "print(titleId, paragraphId, questionId)\n",
        "showQuestion(titleId, paragraphId, questionId)\n"
      ],
      "execution_count": 38,
      "outputs": [
        {
          "output_type": "stream",
          "text": [
            "0 16 3\n"
          ],
          "name": "stdout"
        },
        {
          "output_type": "display_data",
          "data": {
            "text/plain": [
              "'**Title**'"
            ]
          },
          "metadata": {
            "tags": []
          }
        },
        {
          "output_type": "stream",
          "text": [
            "University_of_Notre_Dame\n"
          ],
          "name": "stdout"
        },
        {
          "output_type": "display_data",
          "data": {
            "text/plain": [
              "'**Paragraph**'"
            ]
          },
          "metadata": {
            "tags": []
          }
        },
        {
          "output_type": "stream",
          "text": [
            "About 80% of undergraduates and 20% of graduate students live on campus. The majority of the graduate students on campus live in one of four graduate housing complexes on campus, while all on-campus undergraduates live in one of the 29 residence halls. Because of the religious affiliation of the university, all residence halls are single-sex, with 15 male dorms and 14 female dorms. The university maintains a visiting policy (known as parietal hours) for those students who live in dormitories, specifying times when members of the opposite sex are allowed to visit other students' dorm rooms; however, all residence halls have 24-hour social spaces for students regardless of gender. Many residence halls have at least one nun and/or priest as a resident. There are no traditional social fraternities or sororities at the university, but a majority of students live in the same residence hall for all four years. Some intramural sports are based on residence hall teams, where the university offers the only non-military academy program of full-contact intramural American football. At the end of the intramural season, the championship game is played on the field in Notre Dame Stadium.\n"
          ],
          "name": "stdout"
        },
        {
          "output_type": "display_data",
          "data": {
            "text/plain": [
              "'**Question**'"
            ]
          },
          "metadata": {
            "tags": []
          }
        },
        {
          "output_type": "stream",
          "text": [
            "What amount of the graduate student body at Notre Dame live on the campus?\n"
          ],
          "name": "stdout"
        },
        {
          "output_type": "display_data",
          "data": {
            "text/plain": [
              "'**Answer**'"
            ]
          },
          "metadata": {
            "tags": []
          }
        },
        {
          "output_type": "stream",
          "text": [
            "32\n",
            "20%\n"
          ],
          "name": "stdout"
        }
      ]
    },
    {
      "cell_type": "code",
      "metadata": {
        "id": "GuX1rGrVukTm",
        "colab_type": "code",
        "colab": {
          "base_uri": "https://localhost:8080/",
          "height": 199
        },
        "outputId": "17b2c657-1fdd-4681-8e77-40a6d9feb7b4"
      },
      "source": [
        "questionContainmentDf[questionContainmentDf['paragraph'] == 0].head()\n"
      ],
      "execution_count": 39,
      "outputs": [
        {
          "output_type": "execute_result",
          "data": {
            "text/html": [
              "<div>\n",
              "<style scoped>\n",
              "    .dataframe tbody tr th:only-of-type {\n",
              "        vertical-align: middle;\n",
              "    }\n",
              "\n",
              "    .dataframe tbody tr th {\n",
              "        vertical-align: top;\n",
              "    }\n",
              "\n",
              "    .dataframe thead th {\n",
              "        text-align: right;\n",
              "    }\n",
              "</style>\n",
              "<table border=\"1\" class=\"dataframe\">\n",
              "  <thead>\n",
              "    <tr style=\"text-align: right;\">\n",
              "      <th></th>\n",
              "      <th>sentence</th>\n",
              "      <th>paragraph</th>\n",
              "    </tr>\n",
              "  </thead>\n",
              "  <tbody>\n",
              "    <tr>\n",
              "      <th>269</th>\n",
              "      <td>0.0</td>\n",
              "      <td>0.0</td>\n",
              "    </tr>\n",
              "    <tr>\n",
              "      <th>363</th>\n",
              "      <td>0.0</td>\n",
              "      <td>0.0</td>\n",
              "    </tr>\n",
              "    <tr>\n",
              "      <th>505</th>\n",
              "      <td>0.0</td>\n",
              "      <td>0.0</td>\n",
              "    </tr>\n",
              "    <tr>\n",
              "      <th>2781</th>\n",
              "      <td>0.0</td>\n",
              "      <td>0.0</td>\n",
              "    </tr>\n",
              "    <tr>\n",
              "      <th>3678</th>\n",
              "      <td>0.0</td>\n",
              "      <td>0.0</td>\n",
              "    </tr>\n",
              "  </tbody>\n",
              "</table>\n",
              "</div>"
            ],
            "text/plain": [
              "      sentence  paragraph\n",
              "269        0.0        0.0\n",
              "363        0.0        0.0\n",
              "505        0.0        0.0\n",
              "2781       0.0        0.0\n",
              "3678       0.0        0.0"
            ]
          },
          "metadata": {
            "tags": []
          },
          "execution_count": 39
        }
      ]
    },
    {
      "cell_type": "code",
      "metadata": {
        "id": "bmGZfvwfuodr",
        "colab_type": "code",
        "colab": {
          "base_uri": "https://localhost:8080/",
          "height": 195
        },
        "outputId": "02b7e518-05a0-4053-89f1-325927892a80"
      },
      "source": [
        "getQuestionAt(269)\n",
        "titleId = 1\n",
        "paragraphId = 0 \n",
        "questionId = 0\n",
        "\n",
        "showQuestion(titleId, paragraphId, questionId)\n"
      ],
      "execution_count": 41,
      "outputs": [
        {
          "output_type": "display_data",
          "data": {
            "text/plain": [
              "'**Title**'"
            ]
          },
          "metadata": {
            "tags": []
          }
        },
        {
          "output_type": "stream",
          "text": [
            "Beyoncé\n"
          ],
          "name": "stdout"
        },
        {
          "output_type": "display_data",
          "data": {
            "text/plain": [
              "'**Paragraph**'"
            ]
          },
          "metadata": {
            "tags": []
          }
        },
        {
          "output_type": "stream",
          "text": [
            "Beyoncé Giselle Knowles-Carter (/biːˈjɒnseɪ/ bee-YON-say) (born September 4, 1981) is an American singer, songwriter, record producer and actress. Born and raised in Houston, Texas, she performed in various singing and dancing competitions as a child, and rose to fame in the late 1990s as lead singer of R&B girl-group Destiny's Child. Managed by her father, Mathew Knowles, the group became one of the world's best-selling girl groups of all time. Their hiatus saw the release of Beyoncé's debut album, Dangerously in Love (2003), which established her as a solo artist worldwide, earned five Grammy Awards and featured the Billboard Hot 100 number-one singles \"Crazy in Love\" and \"Baby Boy\".\n"
          ],
          "name": "stdout"
        },
        {
          "output_type": "display_data",
          "data": {
            "text/plain": [
              "'**Question**'"
            ]
          },
          "metadata": {
            "tags": []
          }
        },
        {
          "output_type": "stream",
          "text": [
            "When did Beyonce start becoming popular?\n"
          ],
          "name": "stdout"
        },
        {
          "output_type": "display_data",
          "data": {
            "text/plain": [
              "'**Answer**'"
            ]
          },
          "metadata": {
            "tags": []
          }
        },
        {
          "output_type": "stream",
          "text": [
            "269\n",
            "in the late 1990s\n"
          ],
          "name": "stdout"
        }
      ]
    },
    {
      "cell_type": "code",
      "metadata": {
        "id": "ZzhfWHNNuvgt",
        "colab_type": "code",
        "colab": {
          "base_uri": "https://localhost:8080/",
          "height": 34
        },
        "outputId": "ddc63ee7-3d90-4a72-b58e-97cc0db814ed"
      },
      "source": [
        "getQuestionAt(505)\n"
      ],
      "execution_count": 42,
      "outputs": [
        {
          "output_type": "execute_result",
          "data": {
            "text/plain": [
              "(1, 18, 6)"
            ]
          },
          "metadata": {
            "tags": []
          },
          "execution_count": 42
        }
      ]
    },
    {
      "cell_type": "code",
      "metadata": {
        "id": "OXaYPHU3u0gi",
        "colab_type": "code",
        "colab": {
          "base_uri": "https://localhost:8080/",
          "height": 195
        },
        "outputId": "260a04f5-7cdd-4356-c35b-6c0b1b8aebe5"
      },
      "source": [
        "titleId = 1\n",
        "paragraphId = 18 \n",
        "questionId = 6\n",
        "\n",
        "showQuestion(titleId, paragraphId, questionId)\n"
      ],
      "execution_count": 43,
      "outputs": [
        {
          "output_type": "display_data",
          "data": {
            "text/plain": [
              "'**Title**'"
            ]
          },
          "metadata": {
            "tags": []
          }
        },
        {
          "output_type": "stream",
          "text": [
            "Beyoncé\n"
          ],
          "name": "stdout"
        },
        {
          "output_type": "display_data",
          "data": {
            "text/plain": [
              "'**Paragraph**'"
            ]
          },
          "metadata": {
            "tags": []
          }
        },
        {
          "output_type": "stream",
          "text": [
            "In 2011, documents obtained by WikiLeaks revealed that Beyoncé was one of many entertainers who performed for the family of Libyan ruler Muammar Gaddafi. Rolling Stone reported that the music industry was urging them to return the money they earned for the concerts; a spokesperson for Beyoncé later confirmed to The Huffington Post that she donated the money to the Clinton Bush Haiti Fund. Later that year she became the first solo female artist to headline the main Pyramid stage at the 2011 Glastonbury Festival in over twenty years, and was named the highest-paid performer in the world per minute.\n"
          ],
          "name": "stdout"
        },
        {
          "output_type": "display_data",
          "data": {
            "text/plain": [
              "'**Question**'"
            ]
          },
          "metadata": {
            "tags": []
          }
        },
        {
          "output_type": "stream",
          "text": [
            "When did this leak happen?\n"
          ],
          "name": "stdout"
        },
        {
          "output_type": "display_data",
          "data": {
            "text/plain": [
              "'**Answer**'"
            ]
          },
          "metadata": {
            "tags": []
          }
        },
        {
          "output_type": "stream",
          "text": [
            "3\n",
            "2011\n"
          ],
          "name": "stdout"
        }
      ]
    },
    {
      "cell_type": "code",
      "metadata": {
        "id": "vyc0x6hju5mZ",
        "colab_type": "code",
        "colab": {
          "base_uri": "https://localhost:8080/",
          "height": 230
        },
        "outputId": "7b98b6ca-f61d-45a8-ff47-192a5592ae34"
      },
      "source": [
        "questionContainmentDf[questionContainmentDf['sentence'] == 1]\n"
      ],
      "execution_count": 44,
      "outputs": [
        {
          "output_type": "execute_result",
          "data": {
            "text/html": [
              "<div>\n",
              "<style scoped>\n",
              "    .dataframe tbody tr th:only-of-type {\n",
              "        vertical-align: middle;\n",
              "    }\n",
              "\n",
              "    .dataframe tbody tr th {\n",
              "        vertical-align: top;\n",
              "    }\n",
              "\n",
              "    .dataframe thead th {\n",
              "        text-align: right;\n",
              "    }\n",
              "</style>\n",
              "<table border=\"1\" class=\"dataframe\">\n",
              "  <thead>\n",
              "    <tr style=\"text-align: right;\">\n",
              "      <th></th>\n",
              "      <th>sentence</th>\n",
              "      <th>paragraph</th>\n",
              "    </tr>\n",
              "  </thead>\n",
              "  <tbody>\n",
              "    <tr>\n",
              "      <th>21911</th>\n",
              "      <td>1.0</td>\n",
              "      <td>1.0</td>\n",
              "    </tr>\n",
              "    <tr>\n",
              "      <th>39394</th>\n",
              "      <td>1.0</td>\n",
              "      <td>1.0</td>\n",
              "    </tr>\n",
              "    <tr>\n",
              "      <th>45064</th>\n",
              "      <td>1.0</td>\n",
              "      <td>1.0</td>\n",
              "    </tr>\n",
              "    <tr>\n",
              "      <th>48874</th>\n",
              "      <td>1.0</td>\n",
              "      <td>1.0</td>\n",
              "    </tr>\n",
              "    <tr>\n",
              "      <th>53226</th>\n",
              "      <td>1.0</td>\n",
              "      <td>1.0</td>\n",
              "    </tr>\n",
              "    <tr>\n",
              "      <th>67425</th>\n",
              "      <td>1.0</td>\n",
              "      <td>1.0</td>\n",
              "    </tr>\n",
              "  </tbody>\n",
              "</table>\n",
              "</div>"
            ],
            "text/plain": [
              "       sentence  paragraph\n",
              "21911       1.0        1.0\n",
              "39394       1.0        1.0\n",
              "45064       1.0        1.0\n",
              "48874       1.0        1.0\n",
              "53226       1.0        1.0\n",
              "67425       1.0        1.0"
            ]
          },
          "metadata": {
            "tags": []
          },
          "execution_count": 44
        }
      ]
    },
    {
      "cell_type": "code",
      "metadata": {
        "id": "KByPS7tfvi1s",
        "colab_type": "code",
        "colab": {
          "base_uri": "https://localhost:8080/",
          "height": 195
        },
        "outputId": "2f3e2233-aebd-4e05-d30a-dd00fd4291e4"
      },
      "source": [
        "getQuestionAt(53226)\n"
      ],
      "execution_count": 46,
      "outputs": [
        {
          "output_type": "display_data",
          "data": {
            "text/plain": [
              "'**Title**'"
            ]
          },
          "metadata": {
            "tags": []
          }
        },
        {
          "output_type": "stream",
          "text": [
            "Utrecht\n"
          ],
          "name": "stdout"
        },
        {
          "output_type": "display_data",
          "data": {
            "text/plain": [
              "'**Paragraph**'"
            ]
          },
          "metadata": {
            "tags": []
          }
        },
        {
          "output_type": "stream",
          "text": [
            "Utrecht city has an active cultural life, and in the Netherlands is second only to Amsterdam. There are several theatres and theatre companies. The 1941 main city theatre was built by Dudok. Besides theatres there is a large number of cinemas including three arthouse cinemas. Utrecht is host to the international Early Music Festival (Festival Oude Muziek, for music before 1800) and the Netherlands Film Festival. The city has an important classical music hall Vredenburg (1979 by Herman Hertzberger). Its acoustics are considered among the best of the 20th-century original music halls.[citation needed] The original Vredenburg music hall has been redeveloped as part of the larger station area redevelopment plan and in 2014 has gained additional halls that allowed its merger with the rock club Tivoli and the SJU jazzpodium. There are several other venues for music throughout the city. Young musicians are educated in the conservatory, a department of the Utrecht School of the Arts. There is a specialised museum of automatically playing musical instruments.\n"
          ],
          "name": "stdout"
        },
        {
          "output_type": "display_data",
          "data": {
            "text/plain": [
              "'**Question**'"
            ]
          },
          "metadata": {
            "tags": []
          }
        },
        {
          "output_type": "stream",
          "text": [
            "Cultural life in Utrecht is second to \n"
          ],
          "name": "stdout"
        },
        {
          "output_type": "display_data",
          "data": {
            "text/plain": [
              "'**Answer**'"
            ]
          },
          "metadata": {
            "tags": []
          }
        },
        {
          "output_type": "stream",
          "text": [
            "0\n",
            "Utrecht city has an active cultural life, and in the Netherlands is second only to Amsterdam\n"
          ],
          "name": "stdout"
        }
      ]
    },
    {
      "cell_type": "code",
      "metadata": {
        "id": "hY5-EGb2wRq1",
        "colab_type": "code",
        "colab": {
          "base_uri": "https://localhost:8080/",
          "height": 87
        },
        "outputId": "3b55b014-8b35-4b33-d0a2-5e5c3adff918"
      },
      "source": [
        "answersInText = 0\n",
        "answersNotInText = 0\n",
        "\n",
        "for titleId in range(len(df['data'])):\n",
        "     for paragraphId in range(len(df['data'][titleId]['paragraphs'])):\n",
        "        paragraph = df['data'][titleId]['paragraphs'][paragraphId]['context']\n",
        "        for questionId in range(len(df['data'][titleId]['paragraphs'][paragraphId]['qas'])):\n",
        "            answer = df['data'][titleId]['paragraphs'][paragraphId]['qas'][questionId]['answers'][0]['text']\n",
        "            if (answer in paragraph):\n",
        "                answersInText += 1\n",
        "            else:\n",
        "                answersNotInText += 1\n",
        "                \n",
        "printBold('Answers in text')\n",
        "print(answersInText)\n",
        "printBold('Answers not in text')\n",
        "print(answersNotInText)\n"
      ],
      "execution_count": 49,
      "outputs": [
        {
          "output_type": "display_data",
          "data": {
            "text/plain": [
              "'**Answers in text**'"
            ]
          },
          "metadata": {
            "tags": []
          }
        },
        {
          "output_type": "stream",
          "text": [
            "98169\n"
          ],
          "name": "stdout"
        },
        {
          "output_type": "display_data",
          "data": {
            "text/plain": [
              "'**Answers not in text**'"
            ]
          },
          "metadata": {
            "tags": []
          }
        },
        {
          "output_type": "stream",
          "text": [
            "0\n"
          ],
          "name": "stdout"
        }
      ]
    },
    {
      "cell_type": "code",
      "metadata": {
        "id": "vRx4IciZ0Hnr",
        "colab_type": "code",
        "colab": {}
      },
      "source": [
        "answers = []\n",
        "sentences = []\n",
        "\n",
        "for titleId in range(len(df['data'])):\n",
        "    \n",
        "     for paragraphId in range(len(df['data'][titleId]['paragraphs'])):\n",
        "        paragraph = df['data'][titleId]['paragraphs'][paragraphId]['context']\n",
        "        \n",
        "        for questionId in range(len(df['data'][titleId]['paragraphs'][paragraphId]['qas'])):\n",
        "            answer = df['data'][titleId]['paragraphs'][paragraphId]['qas'][questionId]['answers'][0]['text']\n",
        "            answerStart = df['data'][titleId]['paragraphs'][paragraphId]['qas'][questionId]['answers'][0]['answer_start']\n",
        "            \n",
        "            sentence = extractSentence(paragraph, answerStart)\n",
        "            \n",
        "            answers.append(answer)\n",
        "            sentences.append(sentence)"
      ],
      "execution_count": 0,
      "outputs": []
    },
    {
      "cell_type": "code",
      "metadata": {
        "id": "ThkeWMD81h4K",
        "colab_type": "code",
        "colab": {
          "base_uri": "https://localhost:8080/",
          "height": 199
        },
        "outputId": "18064428-39b1-4018-a5d5-845a4f3a4421"
      },
      "source": [
        "answerTextsDf = pd.DataFrame(answers, columns=['answer'])\n",
        "sentenceDf = pd.DataFrame(sentences, columns=['sentence'])\n",
        "\n",
        "answersDf = pd.concat([answerTextsDf, sentenceDf], axis=1)\n",
        "answersDf.head()\n"
      ],
      "execution_count": 51,
      "outputs": [
        {
          "output_type": "execute_result",
          "data": {
            "text/html": [
              "<div>\n",
              "<style scoped>\n",
              "    .dataframe tbody tr th:only-of-type {\n",
              "        vertical-align: middle;\n",
              "    }\n",
              "\n",
              "    .dataframe tbody tr th {\n",
              "        vertical-align: top;\n",
              "    }\n",
              "\n",
              "    .dataframe thead th {\n",
              "        text-align: right;\n",
              "    }\n",
              "</style>\n",
              "<table border=\"1\" class=\"dataframe\">\n",
              "  <thead>\n",
              "    <tr style=\"text-align: right;\">\n",
              "      <th></th>\n",
              "      <th>answer</th>\n",
              "      <th>sentence</th>\n",
              "    </tr>\n",
              "  </thead>\n",
              "  <tbody>\n",
              "    <tr>\n",
              "      <th>0</th>\n",
              "      <td>Saint Bernadette Soubirous</td>\n",
              "      <td>It is a replica of the grotto at Lourdes, Fran...</td>\n",
              "    </tr>\n",
              "    <tr>\n",
              "      <th>1</th>\n",
              "      <td>a copper statue of Christ</td>\n",
              "      <td>Immediately in front of the Main Building and ...</td>\n",
              "    </tr>\n",
              "    <tr>\n",
              "      <th>2</th>\n",
              "      <td>the Main Building</td>\n",
              "      <td>Next to the Main Building is the Basilica of t...</td>\n",
              "    </tr>\n",
              "    <tr>\n",
              "      <th>3</th>\n",
              "      <td>a Marian place of prayer and reflection</td>\n",
              "      <td>Immediately behind the basilica is the Grotto,...</td>\n",
              "    </tr>\n",
              "    <tr>\n",
              "      <th>4</th>\n",
              "      <td>a golden statue of the Virgin Mary</td>\n",
              "      <td>Atop the Main Building's gold dome is a golden...</td>\n",
              "    </tr>\n",
              "  </tbody>\n",
              "</table>\n",
              "</div>"
            ],
            "text/plain": [
              "                                    answer                                           sentence\n",
              "0               Saint Bernadette Soubirous  It is a replica of the grotto at Lourdes, Fran...\n",
              "1                a copper statue of Christ  Immediately in front of the Main Building and ...\n",
              "2                        the Main Building  Next to the Main Building is the Basilica of t...\n",
              "3  a Marian place of prayer and reflection  Immediately behind the basilica is the Grotto,...\n",
              "4       a golden statue of the Virgin Mary  Atop the Main Building's gold dome is a golden..."
            ]
          },
          "metadata": {
            "tags": []
          },
          "execution_count": 51
        }
      ]
    },
    {
      "cell_type": "code",
      "metadata": {
        "id": "vCAbzhmo1lum",
        "colab_type": "code",
        "colab": {}
      },
      "source": [
        "wordCount = []\n",
        "\n",
        "for i in range(len(answersDf)):\n",
        "    wordCount.append(len(tokenize.word_tokenize(answersDf.iloc[i]['answer'])))"
      ],
      "execution_count": 0,
      "outputs": []
    },
    {
      "cell_type": "code",
      "metadata": {
        "id": "5fhsCW4g1rU6",
        "colab_type": "code",
        "colab": {
          "base_uri": "https://localhost:8080/",
          "height": 175
        },
        "outputId": "436bf949-0368-43d9-9a79-44a13eebaab6"
      },
      "source": [
        "answersDf = pd.concat([answersDf, pd.DataFrame(wordCount, columns=['wordCount'])], axis=1)\n",
        "answersDf['wordCount'].describe()\n"
      ],
      "execution_count": 53,
      "outputs": [
        {
          "output_type": "execute_result",
          "data": {
            "text/plain": [
              "count    98169.000000\n",
              "mean         3.354511\n",
              "std          3.731074\n",
              "min          1.000000\n",
              "25%          1.000000\n",
              "50%          2.000000\n",
              "75%          4.000000\n",
              "max         46.000000\n",
              "Name: wordCount, dtype: float64"
            ]
          },
          "metadata": {
            "tags": []
          },
          "execution_count": 53
        }
      ]
    },
    {
      "cell_type": "code",
      "metadata": {
        "id": "yA9C9c6M1wHd",
        "colab_type": "code",
        "colab": {
          "base_uri": "https://localhost:8080/",
          "height": 737
        },
        "outputId": "6e78568b-f45d-48eb-f8c3-9dc7dd38362a"
      },
      "source": [
        "answersDf['wordCount'].value_counts()\n"
      ],
      "execution_count": 54,
      "outputs": [
        {
          "output_type": "execute_result",
          "data": {
            "text/plain": [
              "1     32161\n",
              "2     25233\n",
              "3     14350\n",
              "4      7557\n",
              "5      4654\n",
              "6      3050\n",
              "7      2222\n",
              "8      1676\n",
              "9      1206\n",
              "10      974\n",
              "11      755\n",
              "12      653\n",
              "13      565\n",
              "14      462\n",
              "15      406\n",
              "16      313\n",
              "18      275\n",
              "17      269\n",
              "19      243\n",
              "20      191\n",
              "21      182\n",
              "23      138\n",
              "22      132\n",
              "25      120\n",
              "24      101\n",
              "26       78\n",
              "28       58\n",
              "27       57\n",
              "29       29\n",
              "30       18\n",
              "31       12\n",
              "32       11\n",
              "33        6\n",
              "38        2\n",
              "34        2\n",
              "35        2\n",
              "36        2\n",
              "37        2\n",
              "42        1\n",
              "46        1\n",
              "Name: wordCount, dtype: int64"
            ]
          },
          "metadata": {
            "tags": []
          },
          "execution_count": 54
        }
      ]
    },
    {
      "cell_type": "code",
      "metadata": {
        "id": "Ngj5zSzo1894",
        "colab_type": "code",
        "colab": {
          "base_uri": "https://localhost:8080/",
          "height": 351
        },
        "outputId": "381e7e92-dd08-490d-ebd5-96dd0de614fb"
      },
      "source": [
        "answersDf[answersDf['wordCount'] == 1].sample(10, random_state=42)"
      ],
      "execution_count": 55,
      "outputs": [
        {
          "output_type": "execute_result",
          "data": {
            "text/html": [
              "<div>\n",
              "<style scoped>\n",
              "    .dataframe tbody tr th:only-of-type {\n",
              "        vertical-align: middle;\n",
              "    }\n",
              "\n",
              "    .dataframe tbody tr th {\n",
              "        vertical-align: top;\n",
              "    }\n",
              "\n",
              "    .dataframe thead th {\n",
              "        text-align: right;\n",
              "    }\n",
              "</style>\n",
              "<table border=\"1\" class=\"dataframe\">\n",
              "  <thead>\n",
              "    <tr style=\"text-align: right;\">\n",
              "      <th></th>\n",
              "      <th>answer</th>\n",
              "      <th>sentence</th>\n",
              "      <th>wordCount</th>\n",
              "    </tr>\n",
              "  </thead>\n",
              "  <tbody>\n",
              "    <tr>\n",
              "      <th>52642</th>\n",
              "      <td>mul</td>\n",
              "      <td>For example, the name for the hanja 水 is 물 수 (...</td>\n",
              "      <td>1</td>\n",
              "    </tr>\n",
              "    <tr>\n",
              "      <th>79457</th>\n",
              "      <td>11,000–16,000</td>\n",
              "      <td>The total Iranian casualties in the war were e...</td>\n",
              "      <td>1</td>\n",
              "    </tr>\n",
              "    <tr>\n",
              "      <th>88678</th>\n",
              "      <td>Saracens</td>\n",
              "      <td>From these bases, the Normans eventually captu...</td>\n",
              "      <td>1</td>\n",
              "    </tr>\n",
              "    <tr>\n",
              "      <th>35390</th>\n",
              "      <td>microphone</td>\n",
              "      <td>The second controller lacked the START and SEL...</td>\n",
              "      <td>1</td>\n",
              "    </tr>\n",
              "    <tr>\n",
              "      <th>34469</th>\n",
              "      <td>rarely</td>\n",
              "      <td>Since Elizabeth rarely gives interviews, littl...</td>\n",
              "      <td>1</td>\n",
              "    </tr>\n",
              "    <tr>\n",
              "      <th>57333</th>\n",
              "      <td>1991</td>\n",
              "      <td>By the late 1980s, digital media, in the form ...</td>\n",
              "      <td>1</td>\n",
              "    </tr>\n",
              "    <tr>\n",
              "      <th>10684</th>\n",
              "      <td>ZigBee</td>\n",
              "      <td>Many newer control systems are using wireless ...</td>\n",
              "      <td>1</td>\n",
              "    </tr>\n",
              "    <tr>\n",
              "      <th>43080</th>\n",
              "      <td>1990s</td>\n",
              "      <td>Intergender singles bouts were first fought on...</td>\n",
              "      <td>1</td>\n",
              "    </tr>\n",
              "    <tr>\n",
              "      <th>43755</th>\n",
              "      <td>1870</td>\n",
              "      <td>In 1870, after France attacked Prussia, Prussi...</td>\n",
              "      <td>1</td>\n",
              "    </tr>\n",
              "    <tr>\n",
              "      <th>65525</th>\n",
              "      <td>Champs-Élysées</td>\n",
              "      <td>As of 2013 the City of Paris had 1,570 hotels ...</td>\n",
              "      <td>1</td>\n",
              "    </tr>\n",
              "  </tbody>\n",
              "</table>\n",
              "</div>"
            ],
            "text/plain": [
              "               answer  ... wordCount\n",
              "52642             mul  ...         1\n",
              "79457   11,000–16,000  ...         1\n",
              "88678        Saracens  ...         1\n",
              "35390      microphone  ...         1\n",
              "34469          rarely  ...         1\n",
              "57333            1991  ...         1\n",
              "10684          ZigBee  ...         1\n",
              "43080           1990s  ...         1\n",
              "43755            1870  ...         1\n",
              "65525  Champs-Élysées  ...         1\n",
              "\n",
              "[10 rows x 3 columns]"
            ]
          },
          "metadata": {
            "tags": []
          },
          "execution_count": 55
        }
      ]
    },
    {
      "cell_type": "code",
      "metadata": {
        "id": "A3e4yAio2ILp",
        "colab_type": "code",
        "colab": {
          "base_uri": "https://localhost:8080/",
          "height": 688
        },
        "outputId": "5fb7ba50-a9b6-4707-be0b-2e59fa4c8d9b"
      },
      "source": [
        "answersDf[answersDf['wordCount'] == 2].sample(n=20, random_state=5)\n"
      ],
      "execution_count": 56,
      "outputs": [
        {
          "output_type": "execute_result",
          "data": {
            "text/html": [
              "<div>\n",
              "<style scoped>\n",
              "    .dataframe tbody tr th:only-of-type {\n",
              "        vertical-align: middle;\n",
              "    }\n",
              "\n",
              "    .dataframe tbody tr th {\n",
              "        vertical-align: top;\n",
              "    }\n",
              "\n",
              "    .dataframe thead th {\n",
              "        text-align: right;\n",
              "    }\n",
              "</style>\n",
              "<table border=\"1\" class=\"dataframe\">\n",
              "  <thead>\n",
              "    <tr style=\"text-align: right;\">\n",
              "      <th></th>\n",
              "      <th>answer</th>\n",
              "      <th>sentence</th>\n",
              "      <th>wordCount</th>\n",
              "    </tr>\n",
              "  </thead>\n",
              "  <tbody>\n",
              "    <tr>\n",
              "      <th>31777</th>\n",
              "      <td>six years</td>\n",
              "      <td>A peace agreement was signed in which John ret...</td>\n",
              "      <td>2</td>\n",
              "    </tr>\n",
              "    <tr>\n",
              "      <th>4799</th>\n",
              "      <td>Notre Dame</td>\n",
              "      <td>In 2006, Lee was awarded an honorary doctorate...</td>\n",
              "      <td>2</td>\n",
              "    </tr>\n",
              "    <tr>\n",
              "      <th>21766</th>\n",
              "      <td>gamma-aminobutyric acid</td>\n",
              "      <td>The two neurotransmitters that are used most w...</td>\n",
              "      <td>2</td>\n",
              "    </tr>\n",
              "    <tr>\n",
              "      <th>28267</th>\n",
              "      <td>Thomas Aquinas</td>\n",
              "      <td>During the Middle Ages, the Aristotelian view ...</td>\n",
              "      <td>2</td>\n",
              "    </tr>\n",
              "    <tr>\n",
              "      <th>7152</th>\n",
              "      <td>The Beatles</td>\n",
              "      <td>The single, \"A Moment Like This\", went on to b...</td>\n",
              "      <td>2</td>\n",
              "    </tr>\n",
              "    <tr>\n",
              "      <th>26176</th>\n",
              "      <td>migratory species</td>\n",
              "      <td>The state is also a host to a large population...</td>\n",
              "      <td>2</td>\n",
              "    </tr>\n",
              "    <tr>\n",
              "      <th>33975</th>\n",
              "      <td>over five</td>\n",
              "      <td>For example, over five columns of text were de...</td>\n",
              "      <td>2</td>\n",
              "    </tr>\n",
              "    <tr>\n",
              "      <th>4851</th>\n",
              "      <td>Mockingbird groupies</td>\n",
              "      <td>Local residents call them \"Mockingbird groupie...</td>\n",
              "      <td>2</td>\n",
              "    </tr>\n",
              "    <tr>\n",
              "      <th>85540</th>\n",
              "      <td>Alan Rogerson</td>\n",
              "      <td>Former members Heather and Gary Botting compar...</td>\n",
              "      <td>2</td>\n",
              "    </tr>\n",
              "    <tr>\n",
              "      <th>77579</th>\n",
              "      <td>Sheffield United</td>\n",
              "      <td>The first ever Premier League goal was scored ...</td>\n",
              "      <td>2</td>\n",
              "    </tr>\n",
              "    <tr>\n",
              "      <th>33022</th>\n",
              "      <td>suppressive fire</td>\n",
              "      <td>Many units are supplemented with a variety of ...</td>\n",
              "      <td>2</td>\n",
              "    </tr>\n",
              "    <tr>\n",
              "      <th>19486</th>\n",
              "      <td>political boundaries</td>\n",
              "      <td>This claim also cannot be used to invalidate t...</td>\n",
              "      <td>2</td>\n",
              "    </tr>\n",
              "    <tr>\n",
              "      <th>92917</th>\n",
              "      <td>20 minutes</td>\n",
              "      <td>It is connected to the city via the Metro Ligh...</td>\n",
              "      <td>2</td>\n",
              "    </tr>\n",
              "    <tr>\n",
              "      <th>56025</th>\n",
              "      <td>Ashe County</td>\n",
              "      <td>Over the last decade, North Carolina has becom...</td>\n",
              "      <td>2</td>\n",
              "    </tr>\n",
              "    <tr>\n",
              "      <th>28701</th>\n",
              "      <td>Brian Labone</td>\n",
              "      <td>The late centre half and former captain Brian ...</td>\n",
              "      <td>2</td>\n",
              "    </tr>\n",
              "    <tr>\n",
              "      <th>5075</th>\n",
              "      <td>learning investments</td>\n",
              "      <td>Hence the additional costs of the incentives f...</td>\n",
              "      <td>2</td>\n",
              "    </tr>\n",
              "    <tr>\n",
              "      <th>22254</th>\n",
              "      <td>23.02%</td>\n",
              "      <td>According to surveys conducted in 2007 and 200...</td>\n",
              "      <td>2</td>\n",
              "    </tr>\n",
              "    <tr>\n",
              "      <th>7646</th>\n",
              "      <td>Jennifer Hudson</td>\n",
              "      <td>Other alumni have gone on to work in televisio...</td>\n",
              "      <td>2</td>\n",
              "    </tr>\n",
              "    <tr>\n",
              "      <th>54428</th>\n",
              "      <td>every continent</td>\n",
              "      <td>Glaciers are present on every continent and ap...</td>\n",
              "      <td>2</td>\n",
              "    </tr>\n",
              "    <tr>\n",
              "      <th>29432</th>\n",
              "      <td>21 March</td>\n",
              "      <td>The Church of Alexandria celebrated Easter on ...</td>\n",
              "      <td>2</td>\n",
              "    </tr>\n",
              "  </tbody>\n",
              "</table>\n",
              "</div>"
            ],
            "text/plain": [
              "                        answer  ... wordCount\n",
              "31777                six years  ...         2\n",
              "4799                Notre Dame  ...         2\n",
              "21766  gamma-aminobutyric acid  ...         2\n",
              "28267           Thomas Aquinas  ...         2\n",
              "7152               The Beatles  ...         2\n",
              "26176        migratory species  ...         2\n",
              "33975                over five  ...         2\n",
              "4851      Mockingbird groupies  ...         2\n",
              "85540            Alan Rogerson  ...         2\n",
              "77579         Sheffield United  ...         2\n",
              "33022         suppressive fire  ...         2\n",
              "19486     political boundaries  ...         2\n",
              "92917               20 minutes  ...         2\n",
              "56025              Ashe County  ...         2\n",
              "28701             Brian Labone  ...         2\n",
              "5075      learning investments  ...         2\n",
              "22254                   23.02%  ...         2\n",
              "7646           Jennifer Hudson  ...         2\n",
              "54428          every continent  ...         2\n",
              "29432                 21 March  ...         2\n",
              "\n",
              "[20 rows x 3 columns]"
            ]
          },
          "metadata": {
            "tags": []
          },
          "execution_count": 56
        }
      ]
    },
    {
      "cell_type": "code",
      "metadata": {
        "id": "36eNzon42Ng7",
        "colab_type": "code",
        "colab": {
          "base_uri": "https://localhost:8080/",
          "height": 857
        },
        "outputId": "41785242-95f1-46a5-8e36-781a4901eac2"
      },
      "source": [
        "answersDf[answersDf['wordCount'] == 3].sample(n=20, random_state=5)\n"
      ],
      "execution_count": 57,
      "outputs": [
        {
          "output_type": "execute_result",
          "data": {
            "text/html": [
              "<div>\n",
              "<style scoped>\n",
              "    .dataframe tbody tr th:only-of-type {\n",
              "        vertical-align: middle;\n",
              "    }\n",
              "\n",
              "    .dataframe tbody tr th {\n",
              "        vertical-align: top;\n",
              "    }\n",
              "\n",
              "    .dataframe thead th {\n",
              "        text-align: right;\n",
              "    }\n",
              "</style>\n",
              "<table border=\"1\" class=\"dataframe\">\n",
              "  <thead>\n",
              "    <tr style=\"text-align: right;\">\n",
              "      <th></th>\n",
              "      <th>answer</th>\n",
              "      <th>sentence</th>\n",
              "      <th>wordCount</th>\n",
              "    </tr>\n",
              "  </thead>\n",
              "  <tbody>\n",
              "    <tr>\n",
              "      <th>49157</th>\n",
              "      <td>Vasco da Gama</td>\n",
              "      <td>Portugal had during the 15th century – particu...</td>\n",
              "      <td>3</td>\n",
              "    </tr>\n",
              "    <tr>\n",
              "      <th>28486</th>\n",
              "      <td>Copa del Generalísimo</td>\n",
              "      <td>The 1960s saw the emergence of Josep Maria Fus...</td>\n",
              "      <td>3</td>\n",
              "    </tr>\n",
              "    <tr>\n",
              "      <th>91654</th>\n",
              "      <td>magnetic tape shortage</td>\n",
              "      <td>During the following years, a magnetic tape sh...</td>\n",
              "      <td>3</td>\n",
              "    </tr>\n",
              "    <tr>\n",
              "      <th>95828</th>\n",
              "      <td>fear of betrayal</td>\n",
              "      <td>In 1354, when Toghtogha led a large army to cr...</td>\n",
              "      <td>3</td>\n",
              "    </tr>\n",
              "    <tr>\n",
              "      <th>61090</th>\n",
              "      <td>Arab Umayyad Caliphate</td>\n",
              "      <td>After conquering Persia, the Arab Umayyad Cali...</td>\n",
              "      <td>3</td>\n",
              "    </tr>\n",
              "    <tr>\n",
              "      <th>92998</th>\n",
              "      <td>keyed Northumbrian smallpipes</td>\n",
              "      <td>John Dunn, inventor of keyed Northumbrian smal...</td>\n",
              "      <td>3</td>\n",
              "    </tr>\n",
              "    <tr>\n",
              "      <th>66068</th>\n",
              "      <td>The Weather Company</td>\n",
              "      <td>On October 28, 2015, IBM announced its acquisi...</td>\n",
              "      <td>3</td>\n",
              "    </tr>\n",
              "    <tr>\n",
              "      <th>24543</th>\n",
              "      <td>10 February 1931</td>\n",
              "      <td>The city that was later dubbed \"Lutyens' Delhi...</td>\n",
              "      <td>3</td>\n",
              "    </tr>\n",
              "    <tr>\n",
              "      <th>50145</th>\n",
              "      <td>political and moral</td>\n",
              "      <td>He is without parallel in any age, excepting p...</td>\n",
              "      <td>3</td>\n",
              "    </tr>\n",
              "    <tr>\n",
              "      <th>84203</th>\n",
              "      <td>the Roku player</td>\n",
              "      <td>Google made YouTube available on the Roku play...</td>\n",
              "      <td>3</td>\n",
              "    </tr>\n",
              "    <tr>\n",
              "      <th>72640</th>\n",
              "      <td>1792 and 1793</td>\n",
              "      <td>The guillotines used during the Reign of Terro...</td>\n",
              "      <td>3</td>\n",
              "    </tr>\n",
              "    <tr>\n",
              "      <th>78086</th>\n",
              "      <td>power to veto</td>\n",
              "      <td>This made his person sacrosanct, gave him the ...</td>\n",
              "      <td>3</td>\n",
              "    </tr>\n",
              "    <tr>\n",
              "      <th>85670</th>\n",
              "      <td>George C. Marshall</td>\n",
              "      <td>Next, he was appointed Assistant Chief of Staf...</td>\n",
              "      <td>3</td>\n",
              "    </tr>\n",
              "    <tr>\n",
              "      <th>10430</th>\n",
              "      <td>Pius V.</td>\n",
              "      <td>The use of the title was reserved for the card...</td>\n",
              "      <td>3</td>\n",
              "    </tr>\n",
              "    <tr>\n",
              "      <th>49201</th>\n",
              "      <td>Frederick the Wise</td>\n",
              "      <td>When he refused, he was placed under the ban o...</td>\n",
              "      <td>3</td>\n",
              "    </tr>\n",
              "    <tr>\n",
              "      <th>8290</th>\n",
              "      <td>Reporters Without Borders</td>\n",
              "      <td>Reporters Without Borders organised several sy...</td>\n",
              "      <td>3</td>\n",
              "    </tr>\n",
              "    <tr>\n",
              "      <th>82432</th>\n",
              "      <td>mythical chullumpi bird</td>\n",
              "      <td>The mythical chullumpi bird is said to mark th...</td>\n",
              "      <td>3</td>\n",
              "    </tr>\n",
              "    <tr>\n",
              "      <th>44100</th>\n",
              "      <td>George W. Bush</td>\n",
              "      <td>New Haven is the birthplace of former presiden...</td>\n",
              "      <td>3</td>\n",
              "    </tr>\n",
              "    <tr>\n",
              "      <th>93328</th>\n",
              "      <td>president and CEO</td>\n",
              "      <td>Noble subsequently acquired the rights to the ...</td>\n",
              "      <td>3</td>\n",
              "    </tr>\n",
              "    <tr>\n",
              "      <th>61195</th>\n",
              "      <td>East India Company</td>\n",
              "      <td>This led to the Battle of Plassey on 23 June 1...</td>\n",
              "      <td>3</td>\n",
              "    </tr>\n",
              "  </tbody>\n",
              "</table>\n",
              "</div>"
            ],
            "text/plain": [
              "                              answer  ... wordCount\n",
              "49157                  Vasco da Gama  ...         3\n",
              "28486          Copa del Generalísimo  ...         3\n",
              "91654         magnetic tape shortage  ...         3\n",
              "95828               fear of betrayal  ...         3\n",
              "61090         Arab Umayyad Caliphate  ...         3\n",
              "92998  keyed Northumbrian smallpipes  ...         3\n",
              "66068            The Weather Company  ...         3\n",
              "24543               10 February 1931  ...         3\n",
              "50145            political and moral  ...         3\n",
              "84203                the Roku player  ...         3\n",
              "72640                  1792 and 1793  ...         3\n",
              "78086                  power to veto  ...         3\n",
              "85670             George C. Marshall  ...         3\n",
              "10430                        Pius V.  ...         3\n",
              "49201             Frederick the Wise  ...         3\n",
              "8290       Reporters Without Borders  ...         3\n",
              "82432        mythical chullumpi bird  ...         3\n",
              "44100                 George W. Bush  ...         3\n",
              "93328              president and CEO  ...         3\n",
              "61195             East India Company  ...         3\n",
              "\n",
              "[20 rows x 3 columns]"
            ]
          },
          "metadata": {
            "tags": []
          },
          "execution_count": 57
        }
      ]
    },
    {
      "cell_type": "code",
      "metadata": {
        "id": "UXJCRxpi2Q-c",
        "colab_type": "code",
        "colab": {
          "base_uri": "https://localhost:8080/",
          "height": 993
        },
        "outputId": "2f918695-e05c-4790-b780-b3fdc6a20505"
      },
      "source": [
        "answersDf[answersDf['wordCount'] == 5].sample(n=20, random_state=5)\n"
      ],
      "execution_count": 58,
      "outputs": [
        {
          "output_type": "execute_result",
          "data": {
            "text/html": [
              "<div>\n",
              "<style scoped>\n",
              "    .dataframe tbody tr th:only-of-type {\n",
              "        vertical-align: middle;\n",
              "    }\n",
              "\n",
              "    .dataframe tbody tr th {\n",
              "        vertical-align: top;\n",
              "    }\n",
              "\n",
              "    .dataframe thead th {\n",
              "        text-align: right;\n",
              "    }\n",
              "</style>\n",
              "<table border=\"1\" class=\"dataframe\">\n",
              "  <thead>\n",
              "    <tr style=\"text-align: right;\">\n",
              "      <th></th>\n",
              "      <th>answer</th>\n",
              "      <th>sentence</th>\n",
              "      <th>wordCount</th>\n",
              "    </tr>\n",
              "  </thead>\n",
              "  <tbody>\n",
              "    <tr>\n",
              "      <th>85209</th>\n",
              "      <td>conduct surveys of party colleagues</td>\n",
              "      <td>For instance, to keep their party colleagues \"...</td>\n",
              "      <td>5</td>\n",
              "    </tr>\n",
              "    <tr>\n",
              "      <th>20338</th>\n",
              "      <td>Robert Bideleux and Ian Jeffries</td>\n",
              "      <td>Significant legislative changes in the status ...</td>\n",
              "      <td>5</td>\n",
              "    </tr>\n",
              "    <tr>\n",
              "      <th>22367</th>\n",
              "      <td>in excess of £3.3 billion</td>\n",
              "      <td>The total annual cost to support the defence e...</td>\n",
              "      <td>5</td>\n",
              "    </tr>\n",
              "    <tr>\n",
              "      <th>64526</th>\n",
              "      <td>Koninklijk Conservatorium Artesis Hogeschool A...</td>\n",
              "      <td>She is now also professor mandolin at the musi...</td>\n",
              "      <td>5</td>\n",
              "    </tr>\n",
              "    <tr>\n",
              "      <th>97009</th>\n",
              "      <td>end of World War I</td>\n",
              "      <td>At the end of World War I, the Rhineland was s...</td>\n",
              "      <td>5</td>\n",
              "    </tr>\n",
              "    <tr>\n",
              "      <th>54390</th>\n",
              "      <td>partly cold-based and partly warm-based</td>\n",
              "      <td>Glaciers which are partly cold-based and partl...</td>\n",
              "      <td>5</td>\n",
              "    </tr>\n",
              "    <tr>\n",
              "      <th>90084</th>\n",
              "      <td>body and blood of Christ</td>\n",
              "      <td>Luther insisted on the Real Presence of the bo...</td>\n",
              "      <td>5</td>\n",
              "    </tr>\n",
              "    <tr>\n",
              "      <th>39942</th>\n",
              "      <td>the eastern waterfront in Buceo</td>\n",
              "      <td>The Museo Naval, is located on the eastern wat...</td>\n",
              "      <td>5</td>\n",
              "    </tr>\n",
              "    <tr>\n",
              "      <th>95598</th>\n",
              "      <td>School of Social Service Administration</td>\n",
              "      <td>In 1955, Eero Saarinen was contracted to devel...</td>\n",
              "      <td>5</td>\n",
              "    </tr>\n",
              "    <tr>\n",
              "      <th>58652</th>\n",
              "      <td>protruded from the road surface</td>\n",
              "      <td>However, the company ceased trading in 1875 af...</td>\n",
              "      <td>5</td>\n",
              "    </tr>\n",
              "    <tr>\n",
              "      <th>56345</th>\n",
              "      <td>scientific naturalism over natural theology</td>\n",
              "      <td>Huxley wanted science to be secular, without r...</td>\n",
              "      <td>5</td>\n",
              "    </tr>\n",
              "    <tr>\n",
              "      <th>25781</th>\n",
              "      <td>Kraftwerk, Art of Noise</td>\n",
              "      <td>This sound, also influenced by European electr...</td>\n",
              "      <td>5</td>\n",
              "    </tr>\n",
              "    <tr>\n",
              "      <th>38132</th>\n",
              "      <td>a great-great grandson of Jacob</td>\n",
              "      <td>Jacob and his sons had lived in Canaan but wer...</td>\n",
              "      <td>5</td>\n",
              "    </tr>\n",
              "    <tr>\n",
              "      <th>41885</th>\n",
              "      <td>off Australia's northwestern coast</td>\n",
              "      <td>On 20 May 2011, Royal Dutch Shell's final inve...</td>\n",
              "      <td>5</td>\n",
              "    </tr>\n",
              "    <tr>\n",
              "      <th>64614</th>\n",
              "      <td>Chris Thile of California is</td>\n",
              "      <td>Chris Thile of California is a well-known play...</td>\n",
              "      <td>5</td>\n",
              "    </tr>\n",
              "    <tr>\n",
              "      <th>89455</th>\n",
              "      <td>in less than quadratic time</td>\n",
              "      <td>Similarly, algorithms can solve the NP-complet...</td>\n",
              "      <td>5</td>\n",
              "    </tr>\n",
              "    <tr>\n",
              "      <th>20808</th>\n",
              "      <td>between 1000 to 1500 BC</td>\n",
              "      <td>Celtic tribes settled in Switzerland between 1...</td>\n",
              "      <td>5</td>\n",
              "    </tr>\n",
              "    <tr>\n",
              "      <th>16151</th>\n",
              "      <td>executive director of football operations</td>\n",
              "      <td>Foster appointed legendary Darrel \"Mouse\" Davi...</td>\n",
              "      <td>5</td>\n",
              "    </tr>\n",
              "    <tr>\n",
              "      <th>55832</th>\n",
              "      <td>tobacco, cotton and agriculture</td>\n",
              "      <td>Impoverished by the Civil War, the state conti...</td>\n",
              "      <td>5</td>\n",
              "    </tr>\n",
              "    <tr>\n",
              "      <th>37697</th>\n",
              "      <td>large tumour on her liver</td>\n",
              "      <td>When Lady Flora died in July, the post-mortem ...</td>\n",
              "      <td>5</td>\n",
              "    </tr>\n",
              "  </tbody>\n",
              "</table>\n",
              "</div>"
            ],
            "text/plain": [
              "                                                  answer  ... wordCount\n",
              "85209                conduct surveys of party colleagues  ...         5\n",
              "20338                   Robert Bideleux and Ian Jeffries  ...         5\n",
              "22367                          in excess of £3.3 billion  ...         5\n",
              "64526  Koninklijk Conservatorium Artesis Hogeschool A...  ...         5\n",
              "97009                                 end of World War I  ...         5\n",
              "54390            partly cold-based and partly warm-based  ...         5\n",
              "90084                           body and blood of Christ  ...         5\n",
              "39942                    the eastern waterfront in Buceo  ...         5\n",
              "95598            School of Social Service Administration  ...         5\n",
              "58652                    protruded from the road surface  ...         5\n",
              "56345        scientific naturalism over natural theology  ...         5\n",
              "25781                            Kraftwerk, Art of Noise  ...         5\n",
              "38132                    a great-great grandson of Jacob  ...         5\n",
              "41885                 off Australia's northwestern coast  ...         5\n",
              "64614                       Chris Thile of California is  ...         5\n",
              "89455                        in less than quadratic time  ...         5\n",
              "20808                            between 1000 to 1500 BC  ...         5\n",
              "16151          executive director of football operations  ...         5\n",
              "55832                    tobacco, cotton and agriculture  ...         5\n",
              "37697                          large tumour on her liver  ...         5\n",
              "\n",
              "[20 rows x 3 columns]"
            ]
          },
          "metadata": {
            "tags": []
          },
          "execution_count": 58
        }
      ]
    },
    {
      "cell_type": "code",
      "metadata": {
        "id": "CpCYKaYz2j_d",
        "colab_type": "code",
        "colab": {
          "base_uri": "https://localhost:8080/",
          "height": 54
        },
        "outputId": "9b39e411-34da-43e0-8aa8-0bb45c5968b6"
      },
      "source": [
        "answersDf[answersDf['wordCount'] == 42].iloc[0]['answer']"
      ],
      "execution_count": 59,
      "outputs": [
        {
          "output_type": "execute_result",
          "data": {
            "text/plain": [
              "'Hillary Clinton (2008), Howard Dean (2004), Gary Hart (1984 and 1988), Paul Tsongas (1992), Pat Robertson (1988) and Jerry Brown (1976, 1980, 1992).'"
            ]
          },
          "metadata": {
            "tags": []
          },
          "execution_count": 59
        }
      ]
    },
    {
      "cell_type": "code",
      "metadata": {
        "id": "Qd6vKO3x3WIu",
        "colab_type": "code",
        "colab": {
          "base_uri": "https://localhost:8080/",
          "height": 90
        },
        "outputId": "d129201b-1ab0-403f-a961-b215ac9a5053"
      },
      "source": [
        "!python -m spacy download en_core_web_md\n"
      ],
      "execution_count": 68,
      "outputs": [
        {
          "output_type": "stream",
          "text": [
            "Requirement already satisfied: en_core_web_md==2.1.0 from https://github.com/explosion/spacy-models/releases/download/en_core_web_md-2.1.0/en_core_web_md-2.1.0.tar.gz#egg=en_core_web_md==2.1.0 in /usr/local/lib/python3.6/dist-packages (2.1.0)\n",
            "\u001b[38;5;2m✔ Download and installation successful\u001b[0m\n",
            "You can now load the model via spacy.load('en_core_web_md')\n"
          ],
          "name": "stdout"
        }
      ]
    },
    {
      "cell_type": "code",
      "metadata": {
        "id": "M5elwyEw2pzY",
        "colab_type": "code",
        "colab": {}
      },
      "source": [
        "from spacy import displacy\n",
        "from collections import Counter\n",
        "import en_core_web_md\n",
        "nlp = en_core_web_md.load()\n",
        "# nlp = spacy.load('en_core_web_md')"
      ],
      "execution_count": 0,
      "outputs": []
    },
    {
      "cell_type": "code",
      "metadata": {
        "id": "UD073Lnf5v3K",
        "colab_type": "code",
        "colab": {}
      },
      "source": [
        "doc = nlp('European authorities fined Google a record $5.1 billion on Wednesday for abusing its power in the mobile phone market and ordered the company to alter its practices')\n"
      ],
      "execution_count": 0,
      "outputs": []
    },
    {
      "cell_type": "code",
      "metadata": {
        "id": "7JTAD74Y5z1D",
        "colab_type": "code",
        "colab": {
          "base_uri": "https://localhost:8080/",
          "height": 54
        },
        "outputId": "59099bdf-0f83-433a-a52a-d777fe818b17"
      },
      "source": [
        "print([(X.text, X.label_) for X in doc.ents])\n"
      ],
      "execution_count": 72,
      "outputs": [
        {
          "output_type": "stream",
          "text": [
            "[('European', 'NORP'), ('Google', 'ORG'), ('$5.1 billion', 'MONEY'), ('Wednesday', 'DATE')]\n"
          ],
          "name": "stdout"
        }
      ]
    },
    {
      "cell_type": "code",
      "metadata": {
        "id": "k4LwSG0e6EJt",
        "colab_type": "code",
        "colab": {}
      },
      "source": [
        "def NerForWord(text):\n",
        "    doc = nlp(text)\n",
        "    \n",
        "    entitiesFound = len(doc.ents)\n",
        "    \n",
        "    if (entitiesFound > 0):\n",
        "        #TODO - Could potentially find multiple entities in the text. We're returning only the first one.\n",
        "        return doc.ents[0].label_\n",
        "    else:\n",
        "        return ''\n"
      ],
      "execution_count": 0,
      "outputs": []
    },
    {
      "cell_type": "code",
      "metadata": {
        "id": "Qla8d8sx6Rkc",
        "colab_type": "code",
        "colab": {
          "base_uri": "https://localhost:8080/",
          "height": 34
        },
        "outputId": "b70726fa-23ed-4d79-9a31-cba209c28161"
      },
      "source": [
        "doc = nlp('My name is Laxmikant, My GIN is 43578811. I love coding, I do career with it.')\n",
        "print([(X.text, X.label_) for X in doc.ents])\n"
      ],
      "execution_count": 76,
      "outputs": [
        {
          "output_type": "stream",
          "text": [
            "[('Laxmikant', 'PERSON'), ('43578811', 'DATE')]\n"
          ],
          "name": "stdout"
        }
      ]
    },
    {
      "cell_type": "code",
      "metadata": {
        "id": "krSGsyPU95ue",
        "colab_type": "code",
        "colab": {}
      },
      "source": [
        "def isSingleToken(text):\n",
        "    doc = nlp(text)\n",
        "    \n",
        "    #The entire text is a single named entity \n",
        "    entitiesFound = len(doc.ents)\n",
        "    if(entitiesFound == 1 and doc.ents[0].text == text):\n",
        "        return True\n",
        "    \n",
        "    #The text is not an named entity, but is a single token\n",
        "    tokensFound = len(doc)\n",
        "    if (tokensFound == 1):\n",
        "        return True\n",
        "    \n",
        "    return False\n"
      ],
      "execution_count": 0,
      "outputs": []
    },
    {
      "cell_type": "code",
      "metadata": {
        "id": "Q7DD4UFF-CyT",
        "colab_type": "code",
        "colab": {
          "base_uri": "https://localhost:8080/",
          "height": 34
        },
        "outputId": "ce4caa55-ec82-4e48-8b92-2b2544ea619f"
      },
      "source": [
        "isSingleToken('Laxmikant Ratnaparkhi')\n"
      ],
      "execution_count": 81,
      "outputs": [
        {
          "output_type": "execute_result",
          "data": {
            "text/plain": [
              "True"
            ]
          },
          "metadata": {
            "tags": []
          },
          "execution_count": 81
        }
      ]
    },
    {
      "cell_type": "code",
      "metadata": {
        "id": "w8QmyLjK-PMl",
        "colab_type": "code",
        "colab": {
          "base_uri": "https://localhost:8080/",
          "height": 34
        },
        "outputId": "bc108861-4594-45d6-fd59-d063a0fd9d16"
      },
      "source": [
        "singleTokenCount = 0\n",
        "\n",
        "sampleSize =  int(len(answersDf) / 10)\n",
        "for i in range(sampleSize):\n",
        "        \n",
        "    printPercentage(i, sampleSize)\n",
        "    \n",
        "    if (isSingleToken(answersDf.iloc[i]['answer'])):\n",
        "        singleTokenCount += 1\n"
      ],
      "execution_count": 82,
      "outputs": [
        {
          "output_type": "stream",
          "text": [
            "99%\n"
          ],
          "name": "stdout"
        }
      ]
    },
    {
      "cell_type": "code",
      "metadata": {
        "id": "q4kDPCwz-if9",
        "colab_type": "code",
        "colab": {
          "base_uri": "https://localhost:8080/",
          "height": 34
        },
        "outputId": "af9cd512-583c-44e1-88ea-cd685943d936"
      },
      "source": [
        "singleTokenCount / sampleSize"
      ],
      "execution_count": 84,
      "outputs": [
        {
          "output_type": "execute_result",
          "data": {
            "text/plain": [
              "0.5769152404237978"
            ]
          },
          "metadata": {
            "tags": []
          },
          "execution_count": 84
        }
      ]
    },
    {
      "cell_type": "code",
      "metadata": {
        "id": "Y-twl4GA-xob",
        "colab_type": "code",
        "colab": {
          "base_uri": "https://localhost:8080/",
          "height": 105
        },
        "outputId": "fa7e8bb0-6a60-45ad-aa0a-65e03afd3095"
      },
      "source": [
        "doc = nlp('James R. Scott abc2@.com')\n",
        "\n",
        "for token in doc:\n",
        "    print(token.text, token.lemma_, token.pos_, token.tag_, token.dep_,\n",
        "          token.shape_, token.is_alpha, token.is_stop, len(doc.ents), doc.ents[0].label_)\n",
        "    \n",
        "shape = doc[0].shape_\n",
        "for wordIndex in range(1, len(doc)):\n",
        "    shape += (' ' + doc[wordIndex].shape_)\n",
        "        \n",
        "print(shape, doc[0].shape_)\n"
      ],
      "execution_count": 88,
      "outputs": [
        {
          "output_type": "stream",
          "text": [
            "James James PROPN NNP compound Xxxxx True False 1 PERSON\n",
            "R. R. PROPN NNP compound X. False False 1 PERSON\n",
            "Scott Scott PROPN NNP compound Xxxxx True False 1 PERSON\n",
            "abc2@.com abc2@.com X ADD ROOT xxxd@.xxx False False 1 PERSON\n",
            "Xxxxx X. Xxxxx xxxd@.xxx Xxxxx\n"
          ],
          "name": "stdout"
        }
      ]
    },
    {
      "cell_type": "code",
      "metadata": {
        "id": "UDwLocJ8_pyn",
        "colab_type": "code",
        "colab": {
          "base_uri": "https://localhost:8080/",
          "height": 34
        },
        "outputId": "bd9e5b4f-c929-4946-c7de-73cdcedc782e"
      },
      "source": [
        "spacy.explain('CARDINAL')\n"
      ],
      "execution_count": 89,
      "outputs": [
        {
          "output_type": "execute_result",
          "data": {
            "text/plain": [
              "'Numerals that do not fall under another type'"
            ]
          },
          "metadata": {
            "tags": []
          },
          "execution_count": 89
        }
      ]
    },
    {
      "cell_type": "code",
      "metadata": {
        "id": "nHvLEfCu_x4P",
        "colab_type": "code",
        "colab": {}
      },
      "source": [
        "answersDf['isSingleToken'] = False\n",
        "answersDf['NER'] = ''\n",
        "answersDf['POS'] = ''\n",
        "answersDf['TAG'] = ''\n",
        "answersDf['DEP'] = ''\n",
        "answersDf['shape'] = ''\n",
        "answersDf['isAlpha'] = False\n",
        "answersDf['isStop'] = False"
      ],
      "execution_count": 0,
      "outputs": []
    },
    {
      "cell_type": "code",
      "metadata": {
        "id": "BUbsmf94_0T6",
        "colab_type": "code",
        "colab": {
          "base_uri": "https://localhost:8080/",
          "height": 576
        },
        "outputId": "eda52aac-0b2f-444f-edcb-f8d3a4b853e7"
      },
      "source": [
        "answersDf.head()\n"
      ],
      "execution_count": 91,
      "outputs": [
        {
          "output_type": "execute_result",
          "data": {
            "text/html": [
              "<div>\n",
              "<style scoped>\n",
              "    .dataframe tbody tr th:only-of-type {\n",
              "        vertical-align: middle;\n",
              "    }\n",
              "\n",
              "    .dataframe tbody tr th {\n",
              "        vertical-align: top;\n",
              "    }\n",
              "\n",
              "    .dataframe thead th {\n",
              "        text-align: right;\n",
              "    }\n",
              "</style>\n",
              "<table border=\"1\" class=\"dataframe\">\n",
              "  <thead>\n",
              "    <tr style=\"text-align: right;\">\n",
              "      <th></th>\n",
              "      <th>answer</th>\n",
              "      <th>sentence</th>\n",
              "      <th>wordCount</th>\n",
              "      <th>isSingleToken</th>\n",
              "      <th>NER</th>\n",
              "      <th>POS</th>\n",
              "      <th>TAG</th>\n",
              "      <th>DEP</th>\n",
              "      <th>shape</th>\n",
              "      <th>isAlpha</th>\n",
              "      <th>isStop</th>\n",
              "    </tr>\n",
              "  </thead>\n",
              "  <tbody>\n",
              "    <tr>\n",
              "      <th>0</th>\n",
              "      <td>Saint Bernadette Soubirous</td>\n",
              "      <td>It is a replica of the grotto at Lourdes, Fran...</td>\n",
              "      <td>3</td>\n",
              "      <td>False</td>\n",
              "      <td></td>\n",
              "      <td></td>\n",
              "      <td></td>\n",
              "      <td></td>\n",
              "      <td></td>\n",
              "      <td>False</td>\n",
              "      <td>False</td>\n",
              "    </tr>\n",
              "    <tr>\n",
              "      <th>1</th>\n",
              "      <td>a copper statue of Christ</td>\n",
              "      <td>Immediately in front of the Main Building and ...</td>\n",
              "      <td>5</td>\n",
              "      <td>False</td>\n",
              "      <td></td>\n",
              "      <td></td>\n",
              "      <td></td>\n",
              "      <td></td>\n",
              "      <td></td>\n",
              "      <td>False</td>\n",
              "      <td>False</td>\n",
              "    </tr>\n",
              "    <tr>\n",
              "      <th>2</th>\n",
              "      <td>the Main Building</td>\n",
              "      <td>Next to the Main Building is the Basilica of t...</td>\n",
              "      <td>3</td>\n",
              "      <td>False</td>\n",
              "      <td></td>\n",
              "      <td></td>\n",
              "      <td></td>\n",
              "      <td></td>\n",
              "      <td></td>\n",
              "      <td>False</td>\n",
              "      <td>False</td>\n",
              "    </tr>\n",
              "    <tr>\n",
              "      <th>3</th>\n",
              "      <td>a Marian place of prayer and reflection</td>\n",
              "      <td>Immediately behind the basilica is the Grotto,...</td>\n",
              "      <td>7</td>\n",
              "      <td>False</td>\n",
              "      <td></td>\n",
              "      <td></td>\n",
              "      <td></td>\n",
              "      <td></td>\n",
              "      <td></td>\n",
              "      <td>False</td>\n",
              "      <td>False</td>\n",
              "    </tr>\n",
              "    <tr>\n",
              "      <th>4</th>\n",
              "      <td>a golden statue of the Virgin Mary</td>\n",
              "      <td>Atop the Main Building's gold dome is a golden...</td>\n",
              "      <td>7</td>\n",
              "      <td>False</td>\n",
              "      <td></td>\n",
              "      <td></td>\n",
              "      <td></td>\n",
              "      <td></td>\n",
              "      <td></td>\n",
              "      <td>False</td>\n",
              "      <td>False</td>\n",
              "    </tr>\n",
              "  </tbody>\n",
              "</table>\n",
              "</div>"
            ],
            "text/plain": [
              "                                    answer  ... isStop\n",
              "0               Saint Bernadette Soubirous  ...  False\n",
              "1                a copper statue of Christ  ...  False\n",
              "2                        the Main Building  ...  False\n",
              "3  a Marian place of prayer and reflection  ...  False\n",
              "4       a golden statue of the Virgin Mary  ...  False\n",
              "\n",
              "[5 rows x 11 columns]"
            ]
          },
          "metadata": {
            "tags": []
          },
          "execution_count": 91
        }
      ]
    },
    {
      "cell_type": "code",
      "metadata": {
        "id": "x_07I6aGAynn",
        "colab_type": "code",
        "colab": {
          "base_uri": "https://localhost:8080/",
          "height": 34
        },
        "outputId": "e3f18698-5de5-4f22-cac4-6ec0f2198c8d"
      },
      "source": [
        "singleTokenCount = 0\n",
        "\n",
        "sampleSize = int(len(answersDf) / 10)\n",
        "\n",
        "for i in range(sampleSize):\n",
        "        \n",
        "    printPercentage(i, sampleSize)\n",
        "    \n",
        "    answer = answersDf.iloc[i]['answer']\n",
        "    if (isSingleToken(answer)):\n",
        "        answersDf.at[i, 'isSingleToken'] = True\n",
        "        \n",
        "        answersDf.at[i, 'NER'] = NerForWord(answer)\n",
        "        \n",
        "        #At this point I've called spacy's nlp method 3 times for the same words...\n",
        "        doc = nlp(answer)\n",
        "        \n",
        "        answersDf.at[i, 'POS'] = doc[0].pos_\n",
        "        answersDf.at[i, 'TAG'] = doc[0].tag_\n",
        "        answersDf.at[i, 'DEP'] = doc[0].dep_\n",
        "        answersDf.at[i, 'isAlpha'] = doc[0].is_alpha\n",
        "        answersDf.at[i, 'isStop'] = doc[0].is_stop\n",
        "        \n",
        "        shape = doc[0].shape_\n",
        "        for wordIndex in range(1, len(doc)):\n",
        "            shape += (' ' + doc[wordIndex].shape_)\n",
        "            \n",
        "        answersDf.at[i, 'shape'] = shape\n"
      ],
      "execution_count": 92,
      "outputs": [
        {
          "output_type": "stream",
          "text": [
            "99%\n"
          ],
          "name": "stdout"
        }
      ]
    },
    {
      "cell_type": "code",
      "metadata": {
        "id": "DOTYQsq3BY0P",
        "colab_type": "code",
        "colab": {
          "base_uri": "https://localhost:8080/",
          "height": 999
        },
        "outputId": "95a2a7e7-d8a7-44b5-82bd-4a50011ad770"
      },
      "source": [
        "answersDf[answersDf['NER'] == 'ORG'].sample(n=10, random_state=5)\n"
      ],
      "execution_count": 93,
      "outputs": [
        {
          "output_type": "execute_result",
          "data": {
            "text/html": [
              "<div>\n",
              "<style scoped>\n",
              "    .dataframe tbody tr th:only-of-type {\n",
              "        vertical-align: middle;\n",
              "    }\n",
              "\n",
              "    .dataframe tbody tr th {\n",
              "        vertical-align: top;\n",
              "    }\n",
              "\n",
              "    .dataframe thead th {\n",
              "        text-align: right;\n",
              "    }\n",
              "</style>\n",
              "<table border=\"1\" class=\"dataframe\">\n",
              "  <thead>\n",
              "    <tr style=\"text-align: right;\">\n",
              "      <th></th>\n",
              "      <th>answer</th>\n",
              "      <th>sentence</th>\n",
              "      <th>wordCount</th>\n",
              "      <th>isSingleToken</th>\n",
              "      <th>NER</th>\n",
              "      <th>POS</th>\n",
              "      <th>TAG</th>\n",
              "      <th>DEP</th>\n",
              "      <th>shape</th>\n",
              "      <th>isAlpha</th>\n",
              "      <th>isStop</th>\n",
              "    </tr>\n",
              "  </thead>\n",
              "  <tbody>\n",
              "    <tr>\n",
              "      <th>342</th>\n",
              "      <td>Sony Music</td>\n",
              "      <td>In 1996, the girls began recording their debut...</td>\n",
              "      <td>2</td>\n",
              "      <td>True</td>\n",
              "      <td>ORG</td>\n",
              "      <td>PROPN</td>\n",
              "      <td>NNP</td>\n",
              "      <td>compound</td>\n",
              "      <td>Xxxx Xxxxx</td>\n",
              "      <td>True</td>\n",
              "      <td>False</td>\n",
              "    </tr>\n",
              "    <tr>\n",
              "      <th>9325</th>\n",
              "      <td>HUD</td>\n",
              "      <td>In his dissent to the majority report of the F...</td>\n",
              "      <td>1</td>\n",
              "      <td>True</td>\n",
              "      <td>ORG</td>\n",
              "      <td>PROPN</td>\n",
              "      <td>NNP</td>\n",
              "      <td>ROOT</td>\n",
              "      <td>XXX</td>\n",
              "      <td>True</td>\n",
              "      <td>False</td>\n",
              "    </tr>\n",
              "    <tr>\n",
              "      <th>3408</th>\n",
              "      <td>Shenzhen Stock Exchange</td>\n",
              "      <td>Both the Shanghai Stock Exchange and the Shenz...</td>\n",
              "      <td>3</td>\n",
              "      <td>True</td>\n",
              "      <td>ORG</td>\n",
              "      <td>PROPN</td>\n",
              "      <td>NNP</td>\n",
              "      <td>compound</td>\n",
              "      <td>Xxxxx Xxxxx Xxxxx</td>\n",
              "      <td>True</td>\n",
              "      <td>False</td>\n",
              "    </tr>\n",
              "    <tr>\n",
              "      <th>2789</th>\n",
              "      <td>Foxconn</td>\n",
              "      <td>Foxconn, Apple's manufacturer, initially denie...</td>\n",
              "      <td>1</td>\n",
              "      <td>True</td>\n",
              "      <td>ORG</td>\n",
              "      <td>PROPN</td>\n",
              "      <td>NNP</td>\n",
              "      <td>ROOT</td>\n",
              "      <td>Xxxxx</td>\n",
              "      <td>True</td>\n",
              "      <td>False</td>\n",
              "    </tr>\n",
              "    <tr>\n",
              "      <th>7729</th>\n",
              "      <td>The Walt Disney Company</td>\n",
              "      <td>On February 14, 2009, The Walt Disney Company ...</td>\n",
              "      <td>4</td>\n",
              "      <td>True</td>\n",
              "      <td>ORG</td>\n",
              "      <td>DET</td>\n",
              "      <td>DT</td>\n",
              "      <td>det</td>\n",
              "      <td>Xxx Xxxx Xxxxx Xxxxx</td>\n",
              "      <td>True</td>\n",
              "      <td>True</td>\n",
              "    </tr>\n",
              "    <tr>\n",
              "      <th>3181</th>\n",
              "      <td>The London Fire Brigade</td>\n",
              "      <td>The London Fire Brigade was on set to simulate...</td>\n",
              "      <td>4</td>\n",
              "      <td>True</td>\n",
              "      <td>ORG</td>\n",
              "      <td>DET</td>\n",
              "      <td>DT</td>\n",
              "      <td>det</td>\n",
              "      <td>Xxx Xxxxx Xxxx Xxxxx</td>\n",
              "      <td>True</td>\n",
              "      <td>True</td>\n",
              "    </tr>\n",
              "    <tr>\n",
              "      <th>1479</th>\n",
              "      <td>FDA</td>\n",
              "      <td>Possible improvements include clarification of...</td>\n",
              "      <td>1</td>\n",
              "      <td>True</td>\n",
              "      <td>ORG</td>\n",
              "      <td>PROPN</td>\n",
              "      <td>NNP</td>\n",
              "      <td>ROOT</td>\n",
              "      <td>XXX</td>\n",
              "      <td>True</td>\n",
              "      <td>False</td>\n",
              "    </tr>\n",
              "    <tr>\n",
              "      <th>9702</th>\n",
              "      <td>Cabinda</td>\n",
              "      <td>It is also bounded by Gabon to the west, Camer...</td>\n",
              "      <td>1</td>\n",
              "      <td>True</td>\n",
              "      <td>ORG</td>\n",
              "      <td>PROPN</td>\n",
              "      <td>NNP</td>\n",
              "      <td>ROOT</td>\n",
              "      <td>Xxxxx</td>\n",
              "      <td>True</td>\n",
              "      <td>False</td>\n",
              "    </tr>\n",
              "    <tr>\n",
              "      <th>6482</th>\n",
              "      <td>Amitābha</td>\n",
              "      <td>The Japanese Pure Land teacher Genshin taught ...</td>\n",
              "      <td>1</td>\n",
              "      <td>True</td>\n",
              "      <td>ORG</td>\n",
              "      <td>PROPN</td>\n",
              "      <td>NNP</td>\n",
              "      <td>ROOT</td>\n",
              "      <td>Xxxxx</td>\n",
              "      <td>True</td>\n",
              "      <td>False</td>\n",
              "    </tr>\n",
              "    <tr>\n",
              "      <th>7240</th>\n",
              "      <td>Daughtry</td>\n",
              "      <td>Despite being eliminated earlier in the season...</td>\n",
              "      <td>1</td>\n",
              "      <td>True</td>\n",
              "      <td>ORG</td>\n",
              "      <td>PROPN</td>\n",
              "      <td>NNP</td>\n",
              "      <td>ROOT</td>\n",
              "      <td>Xxxxx</td>\n",
              "      <td>True</td>\n",
              "      <td>False</td>\n",
              "    </tr>\n",
              "  </tbody>\n",
              "</table>\n",
              "</div>"
            ],
            "text/plain": [
              "                       answer  ... isStop\n",
              "342                Sony Music  ...  False\n",
              "9325                      HUD  ...  False\n",
              "3408  Shenzhen Stock Exchange  ...  False\n",
              "2789                  Foxconn  ...  False\n",
              "7729  The Walt Disney Company  ...   True\n",
              "3181  The London Fire Brigade  ...   True\n",
              "1479                      FDA  ...  False\n",
              "9702                  Cabinda  ...  False\n",
              "6482                 Amitābha  ...  False\n",
              "7240                 Daughtry  ...  False\n",
              "\n",
              "[10 rows x 11 columns]"
            ]
          },
          "metadata": {
            "tags": []
          },
          "execution_count": 93
        }
      ]
    },
    {
      "cell_type": "code",
      "metadata": {
        "id": "1Je2OJgvBhT3",
        "colab_type": "code",
        "colab": {
          "base_uri": "https://localhost:8080/",
          "height": 70
        },
        "outputId": "30b82c99-fcd0-4e55-f0c7-cdcd51c64016"
      },
      "source": [
        "answersDf['isStop'].value_counts()\n"
      ],
      "execution_count": 94,
      "outputs": [
        {
          "output_type": "execute_result",
          "data": {
            "text/plain": [
              "False    97704\n",
              "True       465\n",
              "Name: isStop, dtype: int64"
            ]
          },
          "metadata": {
            "tags": []
          },
          "execution_count": 94
        }
      ]
    },
    {
      "cell_type": "code",
      "metadata": {
        "id": "wrPKk4X4BnLr",
        "colab_type": "code",
        "colab": {
          "base_uri": "https://localhost:8080/",
          "height": 70
        },
        "outputId": "6b7de8cc-9494-400f-b03a-4c912853be71"
      },
      "source": [
        "answersDf['isAlpha'].value_counts()\n"
      ],
      "execution_count": 95,
      "outputs": [
        {
          "output_type": "execute_result",
          "data": {
            "text/plain": [
              "False    94121\n",
              "True      4048\n",
              "Name: isAlpha, dtype: int64"
            ]
          },
          "metadata": {
            "tags": []
          },
          "execution_count": 95
        }
      ]
    },
    {
      "cell_type": "code",
      "metadata": {
        "id": "vsAjk1KABtKg",
        "colab_type": "code",
        "colab": {
          "base_uri": "https://localhost:8080/",
          "height": 593
        },
        "outputId": "261ed20e-16ab-449c-dfd4-ac6475d43548"
      },
      "source": [
        "answersDf[answersDf['POS'] == 'PROPN'].sample(n=5, random_state=16)\n"
      ],
      "execution_count": 96,
      "outputs": [
        {
          "output_type": "execute_result",
          "data": {
            "text/html": [
              "<div>\n",
              "<style scoped>\n",
              "    .dataframe tbody tr th:only-of-type {\n",
              "        vertical-align: middle;\n",
              "    }\n",
              "\n",
              "    .dataframe tbody tr th {\n",
              "        vertical-align: top;\n",
              "    }\n",
              "\n",
              "    .dataframe thead th {\n",
              "        text-align: right;\n",
              "    }\n",
              "</style>\n",
              "<table border=\"1\" class=\"dataframe\">\n",
              "  <thead>\n",
              "    <tr style=\"text-align: right;\">\n",
              "      <th></th>\n",
              "      <th>answer</th>\n",
              "      <th>sentence</th>\n",
              "      <th>wordCount</th>\n",
              "      <th>isSingleToken</th>\n",
              "      <th>NER</th>\n",
              "      <th>POS</th>\n",
              "      <th>TAG</th>\n",
              "      <th>DEP</th>\n",
              "      <th>shape</th>\n",
              "      <th>isAlpha</th>\n",
              "      <th>isStop</th>\n",
              "    </tr>\n",
              "  </thead>\n",
              "  <tbody>\n",
              "    <tr>\n",
              "      <th>2878</th>\n",
              "      <td>Lanayru</td>\n",
              "      <td>In return, she helps Link find Ordon Village's...</td>\n",
              "      <td>1</td>\n",
              "      <td>True</td>\n",
              "      <td>ORG</td>\n",
              "      <td>PROPN</td>\n",
              "      <td>NNP</td>\n",
              "      <td>ROOT</td>\n",
              "      <td>Xxxxx</td>\n",
              "      <td>True</td>\n",
              "      <td>False</td>\n",
              "    </tr>\n",
              "    <tr>\n",
              "      <th>3788</th>\n",
              "      <td>CCTV-1</td>\n",
              "      <td>All Mainland Chinese television stations (alon...</td>\n",
              "      <td>1</td>\n",
              "      <td>True</td>\n",
              "      <td>ORG</td>\n",
              "      <td>PROPN</td>\n",
              "      <td>NNP</td>\n",
              "      <td>ROOT</td>\n",
              "      <td>XXXX-d</td>\n",
              "      <td>False</td>\n",
              "      <td>False</td>\n",
              "    </tr>\n",
              "    <tr>\n",
              "      <th>9634</th>\n",
              "      <td>Bantu</td>\n",
              "      <td>Bantu-speaking peoples who founded tribes duri...</td>\n",
              "      <td>1</td>\n",
              "      <td>True</td>\n",
              "      <td>NORP</td>\n",
              "      <td>PROPN</td>\n",
              "      <td>NNP</td>\n",
              "      <td>ROOT</td>\n",
              "      <td>Xxxxx</td>\n",
              "      <td>True</td>\n",
              "      <td>False</td>\n",
              "    </tr>\n",
              "    <tr>\n",
              "      <th>1706</th>\n",
              "      <td>French</td>\n",
              "      <td>In France he used the French versions of his g...</td>\n",
              "      <td>1</td>\n",
              "      <td>True</td>\n",
              "      <td>NORP</td>\n",
              "      <td>PROPN</td>\n",
              "      <td>NNP</td>\n",
              "      <td>ROOT</td>\n",
              "      <td>Xxxxx</td>\n",
              "      <td>True</td>\n",
              "      <td>False</td>\n",
              "    </tr>\n",
              "    <tr>\n",
              "      <th>9284</th>\n",
              "      <td>Financial Crisis Inquiry Commission</td>\n",
              "      <td>The Financial Crisis Inquiry Commission conclu...</td>\n",
              "      <td>4</td>\n",
              "      <td>True</td>\n",
              "      <td>ORG</td>\n",
              "      <td>PROPN</td>\n",
              "      <td>NNP</td>\n",
              "      <td>compound</td>\n",
              "      <td>Xxxxx Xxxxx Xxxxx Xxxxx</td>\n",
              "      <td>True</td>\n",
              "      <td>False</td>\n",
              "    </tr>\n",
              "  </tbody>\n",
              "</table>\n",
              "</div>"
            ],
            "text/plain": [
              "                                   answer  ... isStop\n",
              "2878                              Lanayru  ...  False\n",
              "3788                               CCTV-1  ...  False\n",
              "9634                                Bantu  ...  False\n",
              "1706                               French  ...  False\n",
              "9284  Financial Crisis Inquiry Commission  ...  False\n",
              "\n",
              "[5 rows x 11 columns]"
            ]
          },
          "metadata": {
            "tags": []
          },
          "execution_count": 96
        }
      ]
    },
    {
      "cell_type": "code",
      "metadata": {
        "id": "507mKt-ZByFd",
        "colab_type": "code",
        "colab": {
          "base_uri": "https://localhost:8080/",
          "height": 610
        },
        "outputId": "531a6697-eda3-4663-bd2d-5faa8457b98b"
      },
      "source": [
        "answersDf[answersDf['POS'] == 'NOUN'].sample(n=5, random_state=16)\n"
      ],
      "execution_count": 97,
      "outputs": [
        {
          "output_type": "execute_result",
          "data": {
            "text/html": [
              "<div>\n",
              "<style scoped>\n",
              "    .dataframe tbody tr th:only-of-type {\n",
              "        vertical-align: middle;\n",
              "    }\n",
              "\n",
              "    .dataframe tbody tr th {\n",
              "        vertical-align: top;\n",
              "    }\n",
              "\n",
              "    .dataframe thead th {\n",
              "        text-align: right;\n",
              "    }\n",
              "</style>\n",
              "<table border=\"1\" class=\"dataframe\">\n",
              "  <thead>\n",
              "    <tr style=\"text-align: right;\">\n",
              "      <th></th>\n",
              "      <th>answer</th>\n",
              "      <th>sentence</th>\n",
              "      <th>wordCount</th>\n",
              "      <th>isSingleToken</th>\n",
              "      <th>NER</th>\n",
              "      <th>POS</th>\n",
              "      <th>TAG</th>\n",
              "      <th>DEP</th>\n",
              "      <th>shape</th>\n",
              "      <th>isAlpha</th>\n",
              "      <th>isStop</th>\n",
              "    </tr>\n",
              "  </thead>\n",
              "  <tbody>\n",
              "    <tr>\n",
              "      <th>4206</th>\n",
              "      <td>Christianity</td>\n",
              "      <td>Christianity (59%), particularly Catholicism (...</td>\n",
              "      <td>1</td>\n",
              "      <td>True</td>\n",
              "      <td></td>\n",
              "      <td>NOUN</td>\n",
              "      <td>NN</td>\n",
              "      <td>ROOT</td>\n",
              "      <td>Xxxxx</td>\n",
              "      <td>True</td>\n",
              "      <td>False</td>\n",
              "    </tr>\n",
              "    <tr>\n",
              "      <th>9611</th>\n",
              "      <td>Labour</td>\n",
              "      <td>In 1976 the future Labour prime minister James...</td>\n",
              "      <td>1</td>\n",
              "      <td>True</td>\n",
              "      <td></td>\n",
              "      <td>NOUN</td>\n",
              "      <td>NN</td>\n",
              "      <td>ROOT</td>\n",
              "      <td>Xxxxx</td>\n",
              "      <td>True</td>\n",
              "      <td>False</td>\n",
              "    </tr>\n",
              "    <tr>\n",
              "      <th>8027</th>\n",
              "      <td>nets</td>\n",
              "      <td>pointers and hounds), rodent control, guarding...</td>\n",
              "      <td>1</td>\n",
              "      <td>True</td>\n",
              "      <td></td>\n",
              "      <td>NOUN</td>\n",
              "      <td>NNS</td>\n",
              "      <td>ROOT</td>\n",
              "      <td>xxxx</td>\n",
              "      <td>True</td>\n",
              "      <td>False</td>\n",
              "    </tr>\n",
              "    <tr>\n",
              "      <th>8136</th>\n",
              "      <td>humans</td>\n",
              "      <td>Dogs are also vulnerable to some of the same h...</td>\n",
              "      <td>1</td>\n",
              "      <td>True</td>\n",
              "      <td></td>\n",
              "      <td>NOUN</td>\n",
              "      <td>NNS</td>\n",
              "      <td>ROOT</td>\n",
              "      <td>xxxx</td>\n",
              "      <td>True</td>\n",
              "      <td>False</td>\n",
              "    </tr>\n",
              "    <tr>\n",
              "      <th>6726</th>\n",
              "      <td>life</td>\n",
              "      <td>On the other hand, the rules themselves are de...</td>\n",
              "      <td>1</td>\n",
              "      <td>True</td>\n",
              "      <td></td>\n",
              "      <td>NOUN</td>\n",
              "      <td>NN</td>\n",
              "      <td>ROOT</td>\n",
              "      <td>xxxx</td>\n",
              "      <td>True</td>\n",
              "      <td>False</td>\n",
              "    </tr>\n",
              "  </tbody>\n",
              "</table>\n",
              "</div>"
            ],
            "text/plain": [
              "            answer  ... isStop\n",
              "4206  Christianity  ...  False\n",
              "9611        Labour  ...  False\n",
              "8027          nets  ...  False\n",
              "8136        humans  ...  False\n",
              "6726          life  ...  False\n",
              "\n",
              "[5 rows x 11 columns]"
            ]
          },
          "metadata": {
            "tags": []
          },
          "execution_count": 97
        }
      ]
    },
    {
      "cell_type": "code",
      "metadata": {
        "id": "56qhrcAMB1Xo",
        "colab_type": "code",
        "colab": {
          "base_uri": "https://localhost:8080/",
          "height": 1000
        },
        "outputId": "fc3acbd1-72df-4ff0-c48f-e9094b259b01"
      },
      "source": [
        "answersDf[answersDf['POS'] == 'NUM'].sample(n=10, random_state=16)\n"
      ],
      "execution_count": 98,
      "outputs": [
        {
          "output_type": "execute_result",
          "data": {
            "text/html": [
              "<div>\n",
              "<style scoped>\n",
              "    .dataframe tbody tr th:only-of-type {\n",
              "        vertical-align: middle;\n",
              "    }\n",
              "\n",
              "    .dataframe tbody tr th {\n",
              "        vertical-align: top;\n",
              "    }\n",
              "\n",
              "    .dataframe thead th {\n",
              "        text-align: right;\n",
              "    }\n",
              "</style>\n",
              "<table border=\"1\" class=\"dataframe\">\n",
              "  <thead>\n",
              "    <tr style=\"text-align: right;\">\n",
              "      <th></th>\n",
              "      <th>answer</th>\n",
              "      <th>sentence</th>\n",
              "      <th>wordCount</th>\n",
              "      <th>isSingleToken</th>\n",
              "      <th>NER</th>\n",
              "      <th>POS</th>\n",
              "      <th>TAG</th>\n",
              "      <th>DEP</th>\n",
              "      <th>shape</th>\n",
              "      <th>isAlpha</th>\n",
              "      <th>isStop</th>\n",
              "    </tr>\n",
              "  </thead>\n",
              "  <tbody>\n",
              "    <tr>\n",
              "      <th>4168</th>\n",
              "      <td>92</td>\n",
              "      <td>Throughout its history, the city has been a ma...</td>\n",
              "      <td>1</td>\n",
              "      <td>True</td>\n",
              "      <td>CARDINAL</td>\n",
              "      <td>NUM</td>\n",
              "      <td>CD</td>\n",
              "      <td>ROOT</td>\n",
              "      <td>dd</td>\n",
              "      <td>False</td>\n",
              "      <td>False</td>\n",
              "    </tr>\n",
              "    <tr>\n",
              "      <th>6996</th>\n",
              "      <td>2001</td>\n",
              "      <td>The show debuted in 2001 in Britain with Lythg...</td>\n",
              "      <td>1</td>\n",
              "      <td>True</td>\n",
              "      <td>DATE</td>\n",
              "      <td>NUM</td>\n",
              "      <td>CD</td>\n",
              "      <td>ROOT</td>\n",
              "      <td>dddd</td>\n",
              "      <td>False</td>\n",
              "      <td>False</td>\n",
              "    </tr>\n",
              "    <tr>\n",
              "      <th>9763</th>\n",
              "      <td>44%</td>\n",
              "      <td>Net primary enrollment rate was 44% in 2005, m...</td>\n",
              "      <td>2</td>\n",
              "      <td>True</td>\n",
              "      <td>PERCENT</td>\n",
              "      <td>NUM</td>\n",
              "      <td>CD</td>\n",
              "      <td>nummod</td>\n",
              "      <td>dd %</td>\n",
              "      <td>False</td>\n",
              "      <td>False</td>\n",
              "    </tr>\n",
              "    <tr>\n",
              "      <th>7528</th>\n",
              "      <td>15</td>\n",
              "      <td>Fox announced on May 11, 2015 that the fifteen...</td>\n",
              "      <td>1</td>\n",
              "      <td>True</td>\n",
              "      <td>CARDINAL</td>\n",
              "      <td>NUM</td>\n",
              "      <td>CD</td>\n",
              "      <td>ROOT</td>\n",
              "      <td>dd</td>\n",
              "      <td>False</td>\n",
              "      <td>False</td>\n",
              "    </tr>\n",
              "    <tr>\n",
              "      <th>403</th>\n",
              "      <td>four</td>\n",
              "      <td>Beyoncé's first solo recording was a feature o...</td>\n",
              "      <td>1</td>\n",
              "      <td>True</td>\n",
              "      <td>CARDINAL</td>\n",
              "      <td>NUM</td>\n",
              "      <td>CD</td>\n",
              "      <td>ROOT</td>\n",
              "      <td>xxxx</td>\n",
              "      <td>True</td>\n",
              "      <td>True</td>\n",
              "    </tr>\n",
              "    <tr>\n",
              "      <th>4521</th>\n",
              "      <td>290 million gallons</td>\n",
              "      <td>The Croton Watershed north of the city is unde...</td>\n",
              "      <td>3</td>\n",
              "      <td>True</td>\n",
              "      <td>QUANTITY</td>\n",
              "      <td>NUM</td>\n",
              "      <td>CD</td>\n",
              "      <td>compound</td>\n",
              "      <td>ddd xxxx xxxx</td>\n",
              "      <td>False</td>\n",
              "      <td>False</td>\n",
              "    </tr>\n",
              "    <tr>\n",
              "      <th>4757</th>\n",
              "      <td>40</td>\n",
              "      <td>In the years since, it has sold more than 30 m...</td>\n",
              "      <td>1</td>\n",
              "      <td>True</td>\n",
              "      <td>CARDINAL</td>\n",
              "      <td>NUM</td>\n",
              "      <td>CD</td>\n",
              "      <td>ROOT</td>\n",
              "      <td>dd</td>\n",
              "      <td>False</td>\n",
              "      <td>False</td>\n",
              "    </tr>\n",
              "    <tr>\n",
              "      <th>3275</th>\n",
              "      <td>75</td>\n",
              "      <td>And while Lea Seydoux doesn’t leave a huge imp...</td>\n",
              "      <td>1</td>\n",
              "      <td>True</td>\n",
              "      <td>CARDINAL</td>\n",
              "      <td>NUM</td>\n",
              "      <td>CD</td>\n",
              "      <td>ROOT</td>\n",
              "      <td>dd</td>\n",
              "      <td>False</td>\n",
              "      <td>False</td>\n",
              "    </tr>\n",
              "    <tr>\n",
              "      <th>6008</th>\n",
              "      <td>2.3 million</td>\n",
              "      <td>Late Registration sold over 2.3 million units ...</td>\n",
              "      <td>2</td>\n",
              "      <td>True</td>\n",
              "      <td>CARDINAL</td>\n",
              "      <td>NUM</td>\n",
              "      <td>CD</td>\n",
              "      <td>compound</td>\n",
              "      <td>d.d xxxx</td>\n",
              "      <td>False</td>\n",
              "      <td>False</td>\n",
              "    </tr>\n",
              "    <tr>\n",
              "      <th>2794</th>\n",
              "      <td>2010</td>\n",
              "      <td>In 2010, a number of workers committed suicide...</td>\n",
              "      <td>1</td>\n",
              "      <td>True</td>\n",
              "      <td>DATE</td>\n",
              "      <td>NUM</td>\n",
              "      <td>CD</td>\n",
              "      <td>ROOT</td>\n",
              "      <td>dddd</td>\n",
              "      <td>False</td>\n",
              "      <td>False</td>\n",
              "    </tr>\n",
              "  </tbody>\n",
              "</table>\n",
              "</div>"
            ],
            "text/plain": [
              "                   answer  ... isStop\n",
              "4168                   92  ...  False\n",
              "6996                 2001  ...  False\n",
              "9763                  44%  ...  False\n",
              "7528                   15  ...  False\n",
              "403                  four  ...   True\n",
              "4521  290 million gallons  ...  False\n",
              "4757                   40  ...  False\n",
              "3275                   75  ...  False\n",
              "6008          2.3 million  ...  False\n",
              "2794                 2010  ...  False\n",
              "\n",
              "[10 rows x 11 columns]"
            ]
          },
          "metadata": {
            "tags": []
          },
          "execution_count": 98
        }
      ]
    },
    {
      "cell_type": "code",
      "metadata": {
        "id": "TwMrX_bHCA_E",
        "colab_type": "code",
        "colab": {}
      },
      "source": [
        "def highlightAnswers(titleId, paragraphId):\n",
        "\n",
        "    paragraph = df['data'][titleId]['paragraphs'][paragraphId]['context']\n",
        "    \n",
        "    answers = df['data'][titleId]['paragraphs'][paragraphId]['qas']\n",
        "\n",
        "    #Get answer starts and answer length\n",
        "    answerPosition = {}\n",
        "    for answer in answers:\n",
        "        answerStart = answer['answers'][0]['answer_start']\n",
        "        answerLength = len(answer['answers'][0]['text'])\n",
        "\n",
        "        answerPosition[answerStart] = answerLength\n",
        "\n",
        "    #Bold answers\n",
        "    shiftStart = 0\n",
        "    highlightedText = ''\n",
        "    currentPlaceInText = 0\n",
        "    \n",
        "    #Append text between previous answer and current answer + bold sign + answer + bold sign\n",
        "    for answerStart in sorted(answerPosition.keys()):\n",
        "        highlightedText += paragraph[currentPlaceInText:answerStart]\n",
        "        highlightedText += '**'\n",
        "        highlightedText += paragraph[answerStart:answerStart + answerPosition[answerStart]]\n",
        "        highlightedText += '**'\n",
        "        \n",
        "        currentPlaceInText = answerStart + answerPosition[answerStart]\n",
        "    \n",
        "    #Append the remaining text after the last answer\n",
        "    highlightedText += paragraph[currentPlaceInText:len(paragraph)]\n",
        "\n",
        "    #Diplay the highlighted text\n",
        "    display('**'+highlightedText+'**')\n"
      ],
      "execution_count": 0,
      "outputs": []
    },
    {
      "cell_type": "code",
      "metadata": {
        "id": "Fa0q6CKRCEmF",
        "colab_type": "code",
        "colab": {
          "base_uri": "https://localhost:8080/",
          "height": 54
        },
        "outputId": "531ee697-0800-4371-85e0-732796d6c9b0"
      },
      "source": [
        "titleId = 24\n",
        "paragraphId = 0\n",
        "\n",
        "highlightAnswers(titleId, paragraphId)\n"
      ],
      "execution_count": 102,
      "outputs": [
        {
          "output_type": "display_data",
          "data": {
            "text/plain": [
              "'**Located approximately 250 kilometres (**160** mi) east of Puerto Rico and the nearer Virgin Islands, St. Barthélemy lies immediately southeast of the islands of Saint Martin and Anguilla. It is one of **the Renaissance** Islands. St. Barthélemy is separated from Saint Martin by **the Saint-Barthélemy Channel**. It lies northeast of Saba and St Eustatius, and north of St Kitts. Some small **satellite islets** belong to St. Barthélemy including Île Chevreau (Île Bonhomme), Île Frégate, Île Toc Vers, Île Tortue and Gros Îlets (Îlots Syndare). A much bigger islet, Île Fourchue, lies on the north of the island, in the Saint-Barthélemy Channel. Other rocky islets which include Coco, the Roques (or **little Turtle rocks**), the Goat, and the Sugarloaf.**'"
            ]
          },
          "metadata": {
            "tags": []
          }
        }
      ]
    },
    {
      "cell_type": "code",
      "metadata": {
        "id": "NGtUnPvaClXs",
        "colab_type": "code",
        "colab": {
          "base_uri": "https://localhost:8080/",
          "height": 54
        },
        "outputId": "1294efb4-28ae-48c4-989c-0d847168a8f9"
      },
      "source": [
        "titleId = 4\n",
        "paragraphId = 12\n",
        "\n",
        "highlightAnswers(titleId, paragraphId)\n"
      ],
      "execution_count": 103,
      "outputs": [
        {
          "output_type": "display_data",
          "data": {
            "text/plain": [
              "'****Inappropriate antibiotic treatment and overuse** of antibiotics have contributed to the emergence of antibiotic-resistant bacteria. **Self prescription** of antibiotics is an example of misuse. Many antibiotics are frequently prescribed to treat symptoms or diseases that do not respond to antibiotics or that are likely to resolve without treatment. Also, incorrect or suboptimal antibiotics are prescribed for certain bacterial infections. The **overuse of antibiotics**, like penicillin and erythromycin, has been associated with emerging antibiotic resistance since the 1950s. Widespread usage of antibiotics in hospitals has also been associated with increases in bacterial strains and species that no longer respond to treatment with the most common antibiotics.**'"
            ]
          },
          "metadata": {
            "tags": []
          }
        }
      ]
    },
    {
      "cell_type": "code",
      "metadata": {
        "id": "ro1ud9BgCsDO",
        "colab_type": "code",
        "colab": {
          "base_uri": "https://localhost:8080/",
          "height": 632
        },
        "outputId": "66e5d34f-ab06-42a1-90ed-d17f209f4e4f"
      },
      "source": [
        "text = df['data'][0]['paragraphs'][0]['context']\n",
        "doc = nlp(text)\n",
        "\n",
        "for noun_chunk in doc.noun_chunks:\n",
        "    print(noun_chunk)\n"
      ],
      "execution_count": 104,
      "outputs": [
        {
          "output_type": "stream",
          "text": [
            "the school\n",
            "a Catholic character\n",
            "the Main Building's gold dome\n",
            "a golden statue\n",
            "the Virgin Mary\n",
            "front\n",
            "the Main Building\n",
            "it\n",
            "a copper statue\n",
            "Christ\n",
            "arms\n",
            "the legend\n",
            "\"Venite Ad Me Omnes\n",
            "the Main Building\n",
            "the Basilica\n",
            "the Sacred Heart\n",
            "the basilica\n",
            "the Grotto\n",
            "a Marian place\n",
            "prayer\n",
            "reflection\n",
            "It\n",
            "a replica\n",
            "the grotto\n",
            "Lourdes\n",
            "France\n",
            "the Virgin Mary\n",
            "Saint Bernadette Soubirous\n",
            "the end\n",
            "the main drive\n",
            "a direct line\n",
            "3 statues\n",
            "the Gold Dome\n",
            "a simple, modern stone statue\n",
            "Mary\n"
          ],
          "name": "stdout"
        }
      ]
    },
    {
      "cell_type": "code",
      "metadata": {
        "id": "d6ckiW6RCyeC",
        "colab_type": "code",
        "colab": {
          "base_uri": "https://localhost:8080/",
          "height": 54
        },
        "outputId": "af7d256b-4744-4a6e-ea93-0cbd4b2efcfc"
      },
      "source": [
        "titleId = 0\n",
        "paragraphId = 0\n",
        "\n",
        "highlightAnswers(titleId, paragraphId)\n"
      ],
      "execution_count": 105,
      "outputs": [
        {
          "output_type": "display_data",
          "data": {
            "text/plain": [
              "'**Architecturally, the school has a Catholic character. Atop the Main Building\\'s gold dome is **a golden statue of the Virgin Mary**. Immediately in front of the Main Building and facing it, is **a copper statue of Christ** with arms upraised with the legend \"Venite Ad Me Omnes\". Next to **the Main Building** is the Basilica of the Sacred Heart. Immediately behind the basilica is the Grotto, **a Marian place of prayer and reflection**. It is a replica of the grotto at Lourdes, France where the Virgin Mary reputedly appeared to **Saint Bernadette Soubirous** in 1858. At the end of the main drive (and in a direct line that connects through 3 statues and the Gold Dome), is a simple, modern stone statue of Mary.**'"
            ]
          },
          "metadata": {
            "tags": []
          }
        }
      ]
    }
  ]
}